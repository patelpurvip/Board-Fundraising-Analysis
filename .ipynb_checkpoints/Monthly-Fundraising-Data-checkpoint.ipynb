{
 "cells": [
  {
   "cell_type": "markdown",
   "metadata": {},
   "source": [
    "# Non-Profit Org donation income by month"
   ]
  },
  {
   "cell_type": "code",
   "execution_count": null,
   "metadata": {},
   "outputs": [],
   "source": [
    "%matplotlib inline\n",
    "import matplotlib.pyplot as plt\n",
    "import pandas as pd\n",
    "import numpy as np\n",
    "import scipy.stats as st\n",
    "\n",
    "monthly_donations = \"donation_data.csv\"\n",
    "donation_data = pd.read_csv(monthly_donations)"
   ]
  },
  {
   "cell_type": "code",
   "execution_count": null,
   "metadata": {},
   "outputs": [],
   "source": [
    "donation_data.head()"
   ]
  },
  {
   "cell_type": "code",
   "execution_count": null,
   "metadata": {},
   "outputs": [],
   "source": [
    "donation_data.dtypes"
   ]
  },
  {
   "cell_type": "code",
   "execution_count": null,
   "metadata": {},
   "outputs": [],
   "source": [
    "df = donation_data.set_index(['FY'])\n",
    "df = df.rename(columns={\"Februay\":\"February\"})\n",
    "df"
   ]
  },
  {
   "cell_type": "code",
   "execution_count": null,
   "metadata": {},
   "outputs": [],
   "source": [
    "df[df.columns[0:]] = df[df.columns[0:]].replace('[\\$,]', '', regex=True).astype(float)\n",
    "df"
   ]
  },
  {
   "cell_type": "code",
   "execution_count": null,
   "metadata": {},
   "outputs": [],
   "source": [
    "df.dtypes"
   ]
  },
  {
   "cell_type": "code",
   "execution_count": null,
   "metadata": {},
   "outputs": [],
   "source": [
    "df = df[['January', 'February', 'March', 'April', 'May', 'June', 'July', 'August', 'September', 'October', 'November', 'December']] \n",
    "df"
   ]
  },
  {
   "cell_type": "code",
   "execution_count": null,
   "metadata": {},
   "outputs": [],
   "source": [
    "FY15 = df.iloc[0]\n",
    "FY16 = df.iloc[1]\n",
    "FY17 = df.iloc[2]\n",
    "FY18 = df.iloc[3]\n",
    "FY19 = df.iloc[4]\n",
    "FY20 = df.iloc[5]"
   ]
  },
  {
   "cell_type": "code",
   "execution_count": null,
   "metadata": {},
   "outputs": [],
   "source": [
    "# FY15_array = FY15.to_list()\n",
    "# FY16_array = FY16.to_list()\n",
    "# FY17_array = FY17.to_list()\n",
    "# FY18_array = FY18.to_list()\n",
    "# FY19_array = FY19.to_list()\n",
    "# FY20_array = FY20.to_list()"
   ]
  },
  {
   "cell_type": "code",
   "execution_count": null,
   "metadata": {},
   "outputs": [],
   "source": [
    "months = ['January', 'February', 'March', 'April', 'May', 'June', 'July', 'August', 'September', 'October', 'November', 'December']\n",
    "\n",
    "fig = plt.figure(figsize=(10,6))\n",
    "\n",
    "plt.plot(months, FY15, color=\"blue\", label=\"FY15\")\n",
    "plt.plot(months, FY16, color=\"red\", label=\"FY16\")\n",
    "plt.plot(months, FY17, color=\"green\", label=\"FY17\")\n",
    "plt.plot(months, FY18, color=\"orange\", label=\"FY18\")\n",
    "plt.plot(months, FY19, color=\"black\", label=\"FY19\")\n",
    "plt.plot(months, FY20, color=\"magenta\", label=\"FY20\")\n",
    "\n",
    "plt.title(\"Donations by FY\")\n",
    "plt.xlabel(\"Month in Fiscal Year\")\n",
    "plt.ylabel(\"Donations Received ($USD)\")\n",
    "\n",
    "\n",
    "plt.xticks(months, rotation=45)\n",
    "plt.legend(loc=\"upper left\")\n",
    "\n",
    "plt.savefig(\"./Images/fundraising_by_FY.png\")\n",
    "plt.show()\n"
   ]
  },
  {
   "cell_type": "code",
   "execution_count": null,
   "metadata": {},
   "outputs": [],
   "source": [
    "fig = plt.figure(figsize=(10,6))\n",
    "\n",
    "plt.plot(months, FY15, color=\"blue\", label=\"FY15\")\n",
    "plt.plot(months, FY16, color=\"red\", label=\"FY16\")\n",
    "\n",
    "\n",
    "plt.title(\"Donations by FY\")\n",
    "plt.xlabel(\"Month in Fiscal Year\")\n",
    "plt.ylabel(\"Donations Received ($USD)\")\n",
    "\n",
    "\n",
    "plt.xticks(months, rotation=45)\n",
    "plt.legend(loc=\"upper left\")\n",
    "\n",
    "plt.savefig(\"./Images/FY15-FY16.png\")\n",
    "plt.show()\n"
   ]
  },
  {
   "cell_type": "code",
   "execution_count": null,
   "metadata": {},
   "outputs": [],
   "source": [
    "fig = plt.figure(figsize=(10,6))\n",
    "\n",
    "plt.plot(months, FY17, color=\"green\", label=\"FY17\")\n",
    "plt.plot(months, FY18, color=\"orange\", label=\"FY18\")\n",
    "plt.plot(months, FY19, color=\"black\", label=\"FY19\")\n",
    "plt.plot(months, FY20, color=\"magenta\", label=\"FY20\")\n",
    "\n",
    "plt.title(\"Donations by FY\")\n",
    "plt.xlabel(\"Month in Fiscal Year\")\n",
    "plt.ylabel(\"Donations Received ($USD)\")\n",
    "\n",
    "\n",
    "plt.xticks(months, rotation=45)\n",
    "plt.legend(loc=\"upper left\")\n",
    "\n",
    "plt.savefig(\"./Images/FY17-FY20.png\")\n",
    "plt.show()\n"
   ]
  },
  {
   "cell_type": "code",
   "execution_count": null,
   "metadata": {},
   "outputs": [],
   "source": [
    "ave_monthly = df.mean()\n",
    "ave_monthly"
   ]
  },
  {
   "cell_type": "code",
   "execution_count": null,
   "metadata": {},
   "outputs": [],
   "source": [
    "fig = plt.figure(figsize=(10,6))\n",
    "\n",
    "plt.plot(months, ave_monthly, color=\"orange\")\n",
    "\n",
    "plt.title(\"Average Monthly Donations: FY15-FY20\")\n",
    "plt.xlabel(\"Month in Calendar Year\")\n",
    "plt.ylabel(\"Donations Received ($USD)\")\n",
    "\n",
    "\n",
    "plt.xticks(months, rotation=45)\n",
    "\n",
    "plt.savefig(\"./Images/Ave_FY15-FY20.png\")\n",
    "plt.show()"
   ]
  },
  {
   "cell_type": "code",
   "execution_count": null,
   "metadata": {},
   "outputs": [],
   "source": []
  }
 ],
 "metadata": {
  "kernelspec": {
   "display_name": "Python 3",
   "language": "python",
   "name": "python3"
  },
  "language_info": {
   "codemirror_mode": {
    "name": "ipython",
    "version": 3
   },
   "file_extension": ".py",
   "mimetype": "text/x-python",
   "name": "python",
   "nbconvert_exporter": "python",
   "pygments_lexer": "ipython3",
   "version": "3.7.4"
  }
 },
 "nbformat": 4,
 "nbformat_minor": 2
}
