{
 "cells": [
  {
   "cell_type": "code",
   "execution_count": 3,
   "metadata": {
    "scrolled": true
   },
   "outputs": [
    {
     "output_type": "execute_result",
     "data": {
      "text/plain": "                     Campaign Name                Bucket  Income FY21  \\\n0                Sponsor a Scholar  1: Individual Giving   $12,420.45   \n1  Sponsor a Scholar - Fund a Thon  1: Individual Giving  coming soon   \n2                    Appeal - June  1: Individual Giving    $9,641.00   \n3                Appeal - December  1: Individual Giving  coming soon   \n4   Online appeal - Giving Tuesday  1: Individual Giving  coming soon   \n\n  In-Kind Donations FY21 Volunteer Hours FY21 Income FY20  \\\n0                  $0.00                   30  $25,213.95   \n1                  $0.00          coming soon   $3,610.00   \n2                  $0.00                   27  $25,295.00   \n3                  $0.00          coming soon   $9,637.11   \n4                  $0.00          coming soon   $8,544.94   \n\n  In-Kind Donations FY20  Volunteer Hours FY20  \n0                  $0.00                  75.0  \n1                  $3.50                  20.0  \n2                $341.23                  20.0  \n3                $459.55                  20.0  \n4              $1,499.08                  36.0  ",
      "text/html": "<div>\n<style scoped>\n    .dataframe tbody tr th:only-of-type {\n        vertical-align: middle;\n    }\n\n    .dataframe tbody tr th {\n        vertical-align: top;\n    }\n\n    .dataframe thead th {\n        text-align: right;\n    }\n</style>\n<table border=\"1\" class=\"dataframe\">\n  <thead>\n    <tr style=\"text-align: right;\">\n      <th></th>\n      <th>Campaign Name</th>\n      <th>Bucket</th>\n      <th>Income FY21</th>\n      <th>In-Kind Donations FY21</th>\n      <th>Volunteer Hours FY21</th>\n      <th>Income FY20</th>\n      <th>In-Kind Donations FY20</th>\n      <th>Volunteer Hours FY20</th>\n    </tr>\n  </thead>\n  <tbody>\n    <tr>\n      <td>0</td>\n      <td>Sponsor a Scholar</td>\n      <td>1: Individual Giving</td>\n      <td>$12,420.45</td>\n      <td>$0.00</td>\n      <td>30</td>\n      <td>$25,213.95</td>\n      <td>$0.00</td>\n      <td>75.0</td>\n    </tr>\n    <tr>\n      <td>1</td>\n      <td>Sponsor a Scholar - Fund a Thon</td>\n      <td>1: Individual Giving</td>\n      <td>coming soon</td>\n      <td>$0.00</td>\n      <td>coming soon</td>\n      <td>$3,610.00</td>\n      <td>$3.50</td>\n      <td>20.0</td>\n    </tr>\n    <tr>\n      <td>2</td>\n      <td>Appeal - June</td>\n      <td>1: Individual Giving</td>\n      <td>$9,641.00</td>\n      <td>$0.00</td>\n      <td>27</td>\n      <td>$25,295.00</td>\n      <td>$341.23</td>\n      <td>20.0</td>\n    </tr>\n    <tr>\n      <td>3</td>\n      <td>Appeal - December</td>\n      <td>1: Individual Giving</td>\n      <td>coming soon</td>\n      <td>$0.00</td>\n      <td>coming soon</td>\n      <td>$9,637.11</td>\n      <td>$459.55</td>\n      <td>20.0</td>\n    </tr>\n    <tr>\n      <td>4</td>\n      <td>Online appeal - Giving Tuesday</td>\n      <td>1: Individual Giving</td>\n      <td>coming soon</td>\n      <td>$0.00</td>\n      <td>coming soon</td>\n      <td>$8,544.94</td>\n      <td>$1,499.08</td>\n      <td>36.0</td>\n    </tr>\n  </tbody>\n</table>\n</div>"
     },
     "metadata": {},
     "execution_count": 3
    }
   ],
   "source": [
    "%matplotlib inline\n",
    "import matplotlib.pyplot as plt\n",
    "import pandas as pd\n",
    "import numpy as np\n",
    "import scipy.stats as st\n",
    "\n",
    "step2 = \"Fundraising Strategy - Step 2, 08.07.20.csv\"\n",
    "donation_data = pd.read_csv(step2)\n",
    "donation_data.head()"
   ]
  },
  {
   "cell_type": "code",
   "execution_count": 4,
   "metadata": {
    "scrolled": true
   },
   "outputs": [
    {
     "output_type": "execute_result",
     "data": {
      "text/plain": "                     Campaign Name                Bucket  Income FY20  \\\n0                Sponsor a Scholar  1: Individual Giving     25213.95   \n1  Sponsor a Scholar - Fund a Thon  1: Individual Giving      3610.00   \n2                    Appeal - June  1: Individual Giving     25295.00   \n3                Appeal - December  1: Individual Giving      9637.11   \n4   Online appeal - Giving Tuesday  1: Individual Giving      8544.94   \n\n   In-Kind Donations FY20  Volunteer Hours FY20  \n0                    0.00                  75.0  \n1                    3.50                  20.0  \n2                  341.23                  20.0  \n3                  459.55                  20.0  \n4                 1499.08                  36.0  ",
      "text/html": "<div>\n<style scoped>\n    .dataframe tbody tr th:only-of-type {\n        vertical-align: middle;\n    }\n\n    .dataframe tbody tr th {\n        vertical-align: top;\n    }\n\n    .dataframe thead th {\n        text-align: right;\n    }\n</style>\n<table border=\"1\" class=\"dataframe\">\n  <thead>\n    <tr style=\"text-align: right;\">\n      <th></th>\n      <th>Campaign Name</th>\n      <th>Bucket</th>\n      <th>Income FY20</th>\n      <th>In-Kind Donations FY20</th>\n      <th>Volunteer Hours FY20</th>\n    </tr>\n  </thead>\n  <tbody>\n    <tr>\n      <td>0</td>\n      <td>Sponsor a Scholar</td>\n      <td>1: Individual Giving</td>\n      <td>25213.95</td>\n      <td>0.00</td>\n      <td>75.0</td>\n    </tr>\n    <tr>\n      <td>1</td>\n      <td>Sponsor a Scholar - Fund a Thon</td>\n      <td>1: Individual Giving</td>\n      <td>3610.00</td>\n      <td>3.50</td>\n      <td>20.0</td>\n    </tr>\n    <tr>\n      <td>2</td>\n      <td>Appeal - June</td>\n      <td>1: Individual Giving</td>\n      <td>25295.00</td>\n      <td>341.23</td>\n      <td>20.0</td>\n    </tr>\n    <tr>\n      <td>3</td>\n      <td>Appeal - December</td>\n      <td>1: Individual Giving</td>\n      <td>9637.11</td>\n      <td>459.55</td>\n      <td>20.0</td>\n    </tr>\n    <tr>\n      <td>4</td>\n      <td>Online appeal - Giving Tuesday</td>\n      <td>1: Individual Giving</td>\n      <td>8544.94</td>\n      <td>1499.08</td>\n      <td>36.0</td>\n    </tr>\n  </tbody>\n</table>\n</div>"
     },
     "metadata": {},
     "execution_count": 4
    }
   ],
   "source": [
    "FY20_donations = donation_data[['Campaign Name', 'Bucket', 'Income FY20', 'In-Kind Donations FY20', 'Volunteer Hours FY20']]\n",
    "FY20_donations[FY20_donations.columns[2:7]] = FY20_donations[FY20_donations.columns[2:7]].replace('[\\$,]', '', regex=True).astype(float)\n",
    "FY20_donations.head()"
   ]
  },
  {
   "cell_type": "code",
   "execution_count": 5,
   "metadata": {},
   "outputs": [
    {
     "output_type": "execute_result",
     "data": {
      "text/plain": "                     Campaign Name                Bucket  Income FY20  \\\n0                Sponsor a Scholar  1: Individual Giving     25213.95   \n1  Sponsor a Scholar - Fund a Thon  1: Individual Giving      3610.00   \n2                    Appeal - June  1: Individual Giving     25295.00   \n3                Appeal - December  1: Individual Giving      9637.11   \n4   Online appeal - Giving Tuesday  1: Individual Giving      8544.94   \n\n   In-Kind Donations FY20  Volunteer Hours FY20  Income_Percentage  \\\n0                    0.00                  75.0              0.109   \n1                    3.50                  20.0              0.016   \n2                  341.23                  20.0              0.109   \n3                  459.55                  20.0              0.042   \n4                 1499.08                  36.0              0.037   \n\n   InKind_Percentage  VolHours_Percentage  \n0              0.000                0.069  \n1              0.000                0.018  \n2              0.021                0.018  \n3              0.028                0.018  \n4              0.091                0.033  ",
      "text/html": "<div>\n<style scoped>\n    .dataframe tbody tr th:only-of-type {\n        vertical-align: middle;\n    }\n\n    .dataframe tbody tr th {\n        vertical-align: top;\n    }\n\n    .dataframe thead th {\n        text-align: right;\n    }\n</style>\n<table border=\"1\" class=\"dataframe\">\n  <thead>\n    <tr style=\"text-align: right;\">\n      <th></th>\n      <th>Campaign Name</th>\n      <th>Bucket</th>\n      <th>Income FY20</th>\n      <th>In-Kind Donations FY20</th>\n      <th>Volunteer Hours FY20</th>\n      <th>Income_Percentage</th>\n      <th>InKind_Percentage</th>\n      <th>VolHours_Percentage</th>\n    </tr>\n  </thead>\n  <tbody>\n    <tr>\n      <td>0</td>\n      <td>Sponsor a Scholar</td>\n      <td>1: Individual Giving</td>\n      <td>25213.95</td>\n      <td>0.00</td>\n      <td>75.0</td>\n      <td>0.109</td>\n      <td>0.000</td>\n      <td>0.069</td>\n    </tr>\n    <tr>\n      <td>1</td>\n      <td>Sponsor a Scholar - Fund a Thon</td>\n      <td>1: Individual Giving</td>\n      <td>3610.00</td>\n      <td>3.50</td>\n      <td>20.0</td>\n      <td>0.016</td>\n      <td>0.000</td>\n      <td>0.018</td>\n    </tr>\n    <tr>\n      <td>2</td>\n      <td>Appeal - June</td>\n      <td>1: Individual Giving</td>\n      <td>25295.00</td>\n      <td>341.23</td>\n      <td>20.0</td>\n      <td>0.109</td>\n      <td>0.021</td>\n      <td>0.018</td>\n    </tr>\n    <tr>\n      <td>3</td>\n      <td>Appeal - December</td>\n      <td>1: Individual Giving</td>\n      <td>9637.11</td>\n      <td>459.55</td>\n      <td>20.0</td>\n      <td>0.042</td>\n      <td>0.028</td>\n      <td>0.018</td>\n    </tr>\n    <tr>\n      <td>4</td>\n      <td>Online appeal - Giving Tuesday</td>\n      <td>1: Individual Giving</td>\n      <td>8544.94</td>\n      <td>1499.08</td>\n      <td>36.0</td>\n      <td>0.037</td>\n      <td>0.091</td>\n      <td>0.033</td>\n    </tr>\n  </tbody>\n</table>\n</div>"
     },
     "metadata": {},
     "execution_count": 5
    }
   ],
   "source": [
    "Total_Income = FY20_donations['Income FY20'].sum()\n",
    "Total_InKind = FY20_donations['In-Kind Donations FY20'].sum()\n",
    "Total_VolHours = FY20_donations['Volunteer Hours FY20'].sum()\n",
    "\n",
    "FY20_donations['Income_Percentage'] = round(FY20_donations['Income FY20']/Total_Income,3)\n",
    "FY20_donations['InKind_Percentage'] = round(FY20_donations['In-Kind Donations FY20']/Total_InKind,3)\n",
    "FY20_donations['VolHours_Percentage'] = round(FY20_donations['Volunteer Hours FY20']/Total_VolHours,3)\n",
    "FY20_donations.head()"
   ]
  },
  {
   "cell_type": "code",
   "execution_count": 6,
   "metadata": {},
   "outputs": [
    {
     "output_type": "execute_result",
     "data": {
      "text/plain": "                      Income FY20 Income_Percentage In-Kind Donations FY20  \\\nBucket                                                                       \n1: Individual Giving  $133,907.57             57.8%             $16,233.85   \n2: Major Donors        $88,516.00             38.1%                  $0.00   \n3: Grants                   $0.00              0.0%                  $0.00   \n4: Corporations         $2,269.19              1.0%                  $0.00   \n5: Earned Revenue       $7,321.79              3.2%                $159.60   \nNo bucket                   $0.00              0.0%                  $0.00   \n\n                     InKind_Percentage  Volunteer Hours FY20  \\\nBucket                                                         \n1: Individual Giving             98.9%                1015.0   \n2: Major Donors                   0.0%                  31.0   \n3: Grants                         0.0%                   1.0   \n4: Corporations                   0.0%                   7.0   \n5: Earned Revenue                 1.0%                  37.0   \nNo bucket                         0.0%                   0.0   \n\n                     VolHours_Percentage  \nBucket                                    \n1: Individual Giving               92.9%  \n2: Major Donors                     2.8%  \n3: Grants                           0.1%  \n4: Corporations                     0.6%  \n5: Earned Revenue                   3.4%  \nNo bucket                           0.0%  ",
      "text/html": "<div>\n<style scoped>\n    .dataframe tbody tr th:only-of-type {\n        vertical-align: middle;\n    }\n\n    .dataframe tbody tr th {\n        vertical-align: top;\n    }\n\n    .dataframe thead th {\n        text-align: right;\n    }\n</style>\n<table border=\"1\" class=\"dataframe\">\n  <thead>\n    <tr style=\"text-align: right;\">\n      <th></th>\n      <th>Income FY20</th>\n      <th>Income_Percentage</th>\n      <th>In-Kind Donations FY20</th>\n      <th>InKind_Percentage</th>\n      <th>Volunteer Hours FY20</th>\n      <th>VolHours_Percentage</th>\n    </tr>\n    <tr>\n      <th>Bucket</th>\n      <th></th>\n      <th></th>\n      <th></th>\n      <th></th>\n      <th></th>\n      <th></th>\n    </tr>\n  </thead>\n  <tbody>\n    <tr>\n      <td>1: Individual Giving</td>\n      <td>$133,907.57</td>\n      <td>57.8%</td>\n      <td>$16,233.85</td>\n      <td>98.9%</td>\n      <td>1015.0</td>\n      <td>92.9%</td>\n    </tr>\n    <tr>\n      <td>2: Major Donors</td>\n      <td>$88,516.00</td>\n      <td>38.1%</td>\n      <td>$0.00</td>\n      <td>0.0%</td>\n      <td>31.0</td>\n      <td>2.8%</td>\n    </tr>\n    <tr>\n      <td>3: Grants</td>\n      <td>$0.00</td>\n      <td>0.0%</td>\n      <td>$0.00</td>\n      <td>0.0%</td>\n      <td>1.0</td>\n      <td>0.1%</td>\n    </tr>\n    <tr>\n      <td>4: Corporations</td>\n      <td>$2,269.19</td>\n      <td>1.0%</td>\n      <td>$0.00</td>\n      <td>0.0%</td>\n      <td>7.0</td>\n      <td>0.6%</td>\n    </tr>\n    <tr>\n      <td>5: Earned Revenue</td>\n      <td>$7,321.79</td>\n      <td>3.2%</td>\n      <td>$159.60</td>\n      <td>1.0%</td>\n      <td>37.0</td>\n      <td>3.4%</td>\n    </tr>\n    <tr>\n      <td>No bucket</td>\n      <td>$0.00</td>\n      <td>0.0%</td>\n      <td>$0.00</td>\n      <td>0.0%</td>\n      <td>0.0</td>\n      <td>0.0%</td>\n    </tr>\n  </tbody>\n</table>\n</div>"
     },
     "metadata": {},
     "execution_count": 6
    }
   ],
   "source": [
    "FY20_by_bucket = FY20_donations.groupby(['Bucket'])\n",
    "FY20_bucket_totals = FY20_by_bucket.sum()\n",
    "FY20_bucket_totals = FY20_bucket_totals[[\"Income FY20\", \"Income_Percentage\", \"In-Kind Donations FY20\", \"InKind_Percentage\", \"Volunteer Hours FY20\", \"VolHours_Percentage\"]]\n",
    "\n",
    "# FORMATTING\n",
    "FY20_bucket_totals[\"Income FY20\"] = FY20_bucket_totals[\"Income FY20\"].map(\"${:,.2f}\".format)\n",
    "FY20_bucket_totals[\"In-Kind Donations FY20\"] = FY20_bucket_totals[\"In-Kind Donations FY20\"].map(\"${:,.2f}\".format)\n",
    "FY20_bucket_totals[\"Income_Percentage\"] = FY20_bucket_totals[\"Income_Percentage\"].map(\"{:,.1%}\".format)\n",
    "FY20_bucket_totals[\"InKind_Percentage\"] = FY20_bucket_totals[\"InKind_Percentage\"].map(\"{:,.1%}\".format)\n",
    "FY20_bucket_totals[\"VolHours_Percentage\"] = FY20_bucket_totals[\"VolHours_Percentage\"].map(\"{:,.1%}\".format)\n",
    "\n",
    "FY20_bucket_totals.to_csv(\"./ExcelOutputs/Buckets-FY20-totals.csv\", encoding=\"utf-8\", index=True)\n",
    "FY20_bucket_totals"
   ]
  },
  {
   "cell_type": "code",
   "execution_count": 7,
   "metadata": {},
   "outputs": [
    {
     "output_type": "execute_result",
     "data": {
      "text/plain": "                     Income FY20 In-Kind Donations FY20 Volunteer Hours FY20\nBucket                                                                      \n1: Individual Giving   $8,369.22              $1,014.62                 63.4\n2: Major Donors       $44,258.00                  $0.00                 15.5\n3: Grants                  $0.00                  $0.00                  1.0\n4: Corporations        $1,134.60                  $0.00                  3.5\n5: Earned Revenue        $732.18                 $15.96                  4.1\nNo bucket                   $nan                   $nan                  nan",
      "text/html": "<div>\n<style scoped>\n    .dataframe tbody tr th:only-of-type {\n        vertical-align: middle;\n    }\n\n    .dataframe tbody tr th {\n        vertical-align: top;\n    }\n\n    .dataframe thead th {\n        text-align: right;\n    }\n</style>\n<table border=\"1\" class=\"dataframe\">\n  <thead>\n    <tr style=\"text-align: right;\">\n      <th></th>\n      <th>Income FY20</th>\n      <th>In-Kind Donations FY20</th>\n      <th>Volunteer Hours FY20</th>\n    </tr>\n    <tr>\n      <th>Bucket</th>\n      <th></th>\n      <th></th>\n      <th></th>\n    </tr>\n  </thead>\n  <tbody>\n    <tr>\n      <td>1: Individual Giving</td>\n      <td>$8,369.22</td>\n      <td>$1,014.62</td>\n      <td>63.4</td>\n    </tr>\n    <tr>\n      <td>2: Major Donors</td>\n      <td>$44,258.00</td>\n      <td>$0.00</td>\n      <td>15.5</td>\n    </tr>\n    <tr>\n      <td>3: Grants</td>\n      <td>$0.00</td>\n      <td>$0.00</td>\n      <td>1.0</td>\n    </tr>\n    <tr>\n      <td>4: Corporations</td>\n      <td>$1,134.60</td>\n      <td>$0.00</td>\n      <td>3.5</td>\n    </tr>\n    <tr>\n      <td>5: Earned Revenue</td>\n      <td>$732.18</td>\n      <td>$15.96</td>\n      <td>4.1</td>\n    </tr>\n    <tr>\n      <td>No bucket</td>\n      <td>$nan</td>\n      <td>$nan</td>\n      <td>nan</td>\n    </tr>\n  </tbody>\n</table>\n</div>"
     },
     "metadata": {},
     "execution_count": 7
    }
   ],
   "source": [
    "FY20_bucket_ave = FY20_by_bucket.mean()\n",
    "FY20_bucket_ave = FY20_bucket_ave.drop(['Income_Percentage','InKind_Percentage','VolHours_Percentage'], axis=1)\n",
    "FY20_bucket_ave[\"Income FY20\"] = FY20_bucket_ave[\"Income FY20\"].map(\"${:,.2f}\".format)\n",
    "FY20_bucket_ave[\"In-Kind Donations FY20\"] = FY20_bucket_ave[\"In-Kind Donations FY20\"].map(\"${:,.2f}\".format)\n",
    "FY20_bucket_ave[\"Volunteer Hours FY20\"] = FY20_bucket_ave[\"Volunteer Hours FY20\"].map(\"{:.1f}\".format)\n",
    "\n",
    "FY20_bucket_ave.to_csv(\"./ExcelOutputs/Buckets-FY20-avg.csv\", encoding=\"utf-8\", index=True)\n",
    "FY20_bucket_ave"
   ]
  },
  {
   "cell_type": "code",
   "execution_count": 13,
   "metadata": {},
   "outputs": [
    {
     "output_type": "execute_result",
     "data": {
      "text/plain": "                     Income FY21  Income FY20 FY21 as % of FY20  \\\nBucket                                                            \n1: Individual Giving  $52,092.40  $109,023.52             47.8%   \n2: Major Donors       $50,000.00   $87,500.00             57.1%   \n3: Grants                $750.00        $0.00              inf%   \n4: Corporations        $2,933.82    $2,269.19            129.3%   \n5: Earned Revenue        $638.41    $1,834.33             34.8%   \n\n                     In-Kind Donations FY21 In-Kind Donations FY20  \\\nBucket                                                               \n1: Individual Giving              $9,627.85             $14,012.22   \n2: Major Donors                       $0.00                  $0.00   \n3: Grants                             $0.00                  $0.00   \n4: Corporations                       $0.00                  $0.00   \n5: Earned Revenue                   $704.94                $159.60   \n\n                      Volunteer Hours FY21  Volunteer Hours FY20  \nBucket                                                            \n1: Individual Giving                 753.0                 841.0  \n2: Major Donors                       57.0                  30.0  \n3: Grants                              6.0                   1.0  \n4: Corporations                        7.0                   7.0  \n5: Earned Revenue                     16.0                  37.0  ",
      "text/html": "<div>\n<style scoped>\n    .dataframe tbody tr th:only-of-type {\n        vertical-align: middle;\n    }\n\n    .dataframe tbody tr th {\n        vertical-align: top;\n    }\n\n    .dataframe thead th {\n        text-align: right;\n    }\n</style>\n<table border=\"1\" class=\"dataframe\">\n  <thead>\n    <tr style=\"text-align: right;\">\n      <th></th>\n      <th>Income FY21</th>\n      <th>Income FY20</th>\n      <th>FY21 as % of FY20</th>\n      <th>In-Kind Donations FY21</th>\n      <th>In-Kind Donations FY20</th>\n      <th>Volunteer Hours FY21</th>\n      <th>Volunteer Hours FY20</th>\n    </tr>\n    <tr>\n      <th>Bucket</th>\n      <th></th>\n      <th></th>\n      <th></th>\n      <th></th>\n      <th></th>\n      <th></th>\n      <th></th>\n    </tr>\n  </thead>\n  <tbody>\n    <tr>\n      <td>1: Individual Giving</td>\n      <td>$52,092.40</td>\n      <td>$109,023.52</td>\n      <td>47.8%</td>\n      <td>$9,627.85</td>\n      <td>$14,012.22</td>\n      <td>753.0</td>\n      <td>841.0</td>\n    </tr>\n    <tr>\n      <td>2: Major Donors</td>\n      <td>$50,000.00</td>\n      <td>$87,500.00</td>\n      <td>57.1%</td>\n      <td>$0.00</td>\n      <td>$0.00</td>\n      <td>57.0</td>\n      <td>30.0</td>\n    </tr>\n    <tr>\n      <td>3: Grants</td>\n      <td>$750.00</td>\n      <td>$0.00</td>\n      <td>inf%</td>\n      <td>$0.00</td>\n      <td>$0.00</td>\n      <td>6.0</td>\n      <td>1.0</td>\n    </tr>\n    <tr>\n      <td>4: Corporations</td>\n      <td>$2,933.82</td>\n      <td>$2,269.19</td>\n      <td>129.3%</td>\n      <td>$0.00</td>\n      <td>$0.00</td>\n      <td>7.0</td>\n      <td>7.0</td>\n    </tr>\n    <tr>\n      <td>5: Earned Revenue</td>\n      <td>$638.41</td>\n      <td>$1,834.33</td>\n      <td>34.8%</td>\n      <td>$704.94</td>\n      <td>$159.60</td>\n      <td>16.0</td>\n      <td>37.0</td>\n    </tr>\n  </tbody>\n</table>\n</div>"
     },
     "metadata": {},
     "execution_count": 13
    }
   ],
   "source": [
    "FY21_FY20 = donation_data\n",
    "FY21_FY20.replace(regex=['coming soon'], value=np.nan, inplace=True)\n",
    "FY21_FY20.dropna(inplace=True)\n",
    "FY21_FY20\n",
    "\n",
    "FY21_FY20[FY21_FY20.columns[2:7]] = FY21_FY20[FY21_FY20.columns[2:7]].replace('[\\$,]', '', regex=True).astype(float)\n",
    "\n",
    "\n",
    "FY21_FY20_buckets = FY21_FY20.groupby(['Bucket'])\n",
    "FY21vFY20_to_date = FY21_FY20_buckets.sum()\n",
    "FY21vFY20_to_date['FY21 as % of FY20'] = FY21vFY20_to_date['Income FY21']/FY21vFY20_to_date['Income FY20']\n",
    "FY21vFY20_to_date = FY21vFY20_to_date[['Income FY21', 'Income FY20', 'FY21 as % of FY20', 'In-Kind Donations FY21', 'In-Kind Donations FY20', 'Volunteer Hours FY21', 'Volunteer Hours FY20']]\n",
    "\n",
    "FY21vFY20_to_date[\"Income FY21\"] = FY21vFY20_to_date[\"Income FY21\"].map(\"${:,.2f}\".format)\n",
    "FY21vFY20_to_date[\"In-Kind Donations FY21\"] = FY21vFY20_to_date[\"In-Kind Donations FY21\"].map(\"${:,.2f}\".format)\n",
    "FY21vFY20_to_date[\"Income FY20\"] = FY21vFY20_to_date[\"Income FY20\"].map(\"${:,.2f}\".format)\n",
    "FY21vFY20_to_date['FY21 as % of FY20'] = FY21vFY20_to_date['FY21 as % of FY20'].map(\"{:,.1%}\".format)\n",
    "FY21vFY20_to_date[\"In-Kind Donations FY20\"] = FY21vFY20_to_date[\"In-Kind Donations FY20\"].map(\"${:,.2f}\".format)\n",
    "\n",
    "FY21vFY20_to_date.to_csv(\"./ExcelOutputs/FY21vFY20_to_date_08.08.20.csv\", encoding=\"utf-8\", index=True)\n",
    "FY21vFY20_to_date"
   ]
  },
  {
   "cell_type": "code",
   "execution_count": 15,
   "metadata": {},
   "outputs": [
    {
     "output_type": "execute_result",
     "data": {
      "text/plain": "                  Bucket                        Campaign Name Income FY21  \\\n0   1: Individual Giving                    Sponsor a Scholar  $12,420.45   \n2   1: Individual Giving                        Appeal - June   $9,641.00   \n8   1: Individual Giving               Benefit dinner tickets   $4,817.12   \n9   1: Individual Giving  Benefit dinner individual donations   $8,250.40   \n10  1: Individual Giving               Benefit dinner auction   $9,808.13   \n12  1: Individual Giving               Events - not recurring     $309.30   \n13  1: Individual Giving                     Events - Ecuador       $0.00   \n14  1: Individual Giving               Birthdays and weddings   $1,667.52   \n15  1: Individual Giving                    Unsolicited Gifts   $5,178.48   \n16       2: Major Donors      Benefit dinner sponsorships (5)  $50,000.00   \n18             3: Grants                               Grants     $750.00   \n19       4: Corporations      Benefit dinner sponsorships (1)     $520.56   \n20       4: Corporations              Matching donations (10)   $2,413.26   \n22     5: Earned Revenue            Benefit dinner item sales     $601.06   \n23     5: Earned Revenue                      Pura Vida sales       $5.00   \n24     5: Earned Revenue                     Dream Book sales       $0.00   \n25     5: Earned Revenue                      Popsocket sales       $0.00   \n26     5: Earned Revenue                          Photo sales       $0.00   \n27     5: Earned Revenue                      Speaking events       $0.00   \n28     5: Earned Revenue                         Amazon Smile      $32.35   \n29     5: Earned Revenue                            CafePress       $0.00   \n30     5: Earned Revenue                             Goodshop       $0.00   \n\n   Income FY20 FY21 as % of FY20  \n0   $25,213.95             49.3%  \n2   $25,295.00             38.1%  \n8    $4,010.00            120.1%  \n9    $2,825.00            292.0%  \n10  $11,491.00             85.4%  \n12   $2,920.00             10.6%  \n13   $1,213.60              0.0%  \n14   $6,049.31             27.6%  \n15  $30,005.66             17.3%  \n16  $87,500.00             57.1%  \n18       $0.00              inf%  \n19     $500.00            104.1%  \n20   $1,769.19            136.4%  \n22   $1,183.00             50.8%  \n23       $5.00            100.0%  \n24       $0.00              nan%  \n25       $0.00              nan%  \n26      $40.00              0.0%  \n27     $414.00              0.0%  \n28     $192.33             16.8%  \n29       $0.00              nan%  \n30       $0.00              nan%  ",
      "text/html": "<div>\n<style scoped>\n    .dataframe tbody tr th:only-of-type {\n        vertical-align: middle;\n    }\n\n    .dataframe tbody tr th {\n        vertical-align: top;\n    }\n\n    .dataframe thead th {\n        text-align: right;\n    }\n</style>\n<table border=\"1\" class=\"dataframe\">\n  <thead>\n    <tr style=\"text-align: right;\">\n      <th></th>\n      <th>Bucket</th>\n      <th>Campaign Name</th>\n      <th>Income FY21</th>\n      <th>Income FY20</th>\n      <th>FY21 as % of FY20</th>\n    </tr>\n  </thead>\n  <tbody>\n    <tr>\n      <td>0</td>\n      <td>1: Individual Giving</td>\n      <td>Sponsor a Scholar</td>\n      <td>$12,420.45</td>\n      <td>$25,213.95</td>\n      <td>49.3%</td>\n    </tr>\n    <tr>\n      <td>2</td>\n      <td>1: Individual Giving</td>\n      <td>Appeal - June</td>\n      <td>$9,641.00</td>\n      <td>$25,295.00</td>\n      <td>38.1%</td>\n    </tr>\n    <tr>\n      <td>8</td>\n      <td>1: Individual Giving</td>\n      <td>Benefit dinner tickets</td>\n      <td>$4,817.12</td>\n      <td>$4,010.00</td>\n      <td>120.1%</td>\n    </tr>\n    <tr>\n      <td>9</td>\n      <td>1: Individual Giving</td>\n      <td>Benefit dinner individual donations</td>\n      <td>$8,250.40</td>\n      <td>$2,825.00</td>\n      <td>292.0%</td>\n    </tr>\n    <tr>\n      <td>10</td>\n      <td>1: Individual Giving</td>\n      <td>Benefit dinner auction</td>\n      <td>$9,808.13</td>\n      <td>$11,491.00</td>\n      <td>85.4%</td>\n    </tr>\n    <tr>\n      <td>12</td>\n      <td>1: Individual Giving</td>\n      <td>Events - not recurring</td>\n      <td>$309.30</td>\n      <td>$2,920.00</td>\n      <td>10.6%</td>\n    </tr>\n    <tr>\n      <td>13</td>\n      <td>1: Individual Giving</td>\n      <td>Events - Ecuador</td>\n      <td>$0.00</td>\n      <td>$1,213.60</td>\n      <td>0.0%</td>\n    </tr>\n    <tr>\n      <td>14</td>\n      <td>1: Individual Giving</td>\n      <td>Birthdays and weddings</td>\n      <td>$1,667.52</td>\n      <td>$6,049.31</td>\n      <td>27.6%</td>\n    </tr>\n    <tr>\n      <td>15</td>\n      <td>1: Individual Giving</td>\n      <td>Unsolicited Gifts</td>\n      <td>$5,178.48</td>\n      <td>$30,005.66</td>\n      <td>17.3%</td>\n    </tr>\n    <tr>\n      <td>16</td>\n      <td>2: Major Donors</td>\n      <td>Benefit dinner sponsorships (5)</td>\n      <td>$50,000.00</td>\n      <td>$87,500.00</td>\n      <td>57.1%</td>\n    </tr>\n    <tr>\n      <td>18</td>\n      <td>3: Grants</td>\n      <td>Grants</td>\n      <td>$750.00</td>\n      <td>$0.00</td>\n      <td>inf%</td>\n    </tr>\n    <tr>\n      <td>19</td>\n      <td>4: Corporations</td>\n      <td>Benefit dinner sponsorships (1)</td>\n      <td>$520.56</td>\n      <td>$500.00</td>\n      <td>104.1%</td>\n    </tr>\n    <tr>\n      <td>20</td>\n      <td>4: Corporations</td>\n      <td>Matching donations (10)</td>\n      <td>$2,413.26</td>\n      <td>$1,769.19</td>\n      <td>136.4%</td>\n    </tr>\n    <tr>\n      <td>22</td>\n      <td>5: Earned Revenue</td>\n      <td>Benefit dinner item sales</td>\n      <td>$601.06</td>\n      <td>$1,183.00</td>\n      <td>50.8%</td>\n    </tr>\n    <tr>\n      <td>23</td>\n      <td>5: Earned Revenue</td>\n      <td>Pura Vida sales</td>\n      <td>$5.00</td>\n      <td>$5.00</td>\n      <td>100.0%</td>\n    </tr>\n    <tr>\n      <td>24</td>\n      <td>5: Earned Revenue</td>\n      <td>Dream Book sales</td>\n      <td>$0.00</td>\n      <td>$0.00</td>\n      <td>nan%</td>\n    </tr>\n    <tr>\n      <td>25</td>\n      <td>5: Earned Revenue</td>\n      <td>Popsocket sales</td>\n      <td>$0.00</td>\n      <td>$0.00</td>\n      <td>nan%</td>\n    </tr>\n    <tr>\n      <td>26</td>\n      <td>5: Earned Revenue</td>\n      <td>Photo sales</td>\n      <td>$0.00</td>\n      <td>$40.00</td>\n      <td>0.0%</td>\n    </tr>\n    <tr>\n      <td>27</td>\n      <td>5: Earned Revenue</td>\n      <td>Speaking events</td>\n      <td>$0.00</td>\n      <td>$414.00</td>\n      <td>0.0%</td>\n    </tr>\n    <tr>\n      <td>28</td>\n      <td>5: Earned Revenue</td>\n      <td>Amazon Smile</td>\n      <td>$32.35</td>\n      <td>$192.33</td>\n      <td>16.8%</td>\n    </tr>\n    <tr>\n      <td>29</td>\n      <td>5: Earned Revenue</td>\n      <td>CafePress</td>\n      <td>$0.00</td>\n      <td>$0.00</td>\n      <td>nan%</td>\n    </tr>\n    <tr>\n      <td>30</td>\n      <td>5: Earned Revenue</td>\n      <td>Goodshop</td>\n      <td>$0.00</td>\n      <td>$0.00</td>\n      <td>nan%</td>\n    </tr>\n  </tbody>\n</table>\n</div>"
     },
     "metadata": {},
     "execution_count": 15
    }
   ],
   "source": [
    "FY21vFY20_campaigns = donation_data.dropna(how='any')\n",
    "FY21vFY20_campaigns['FY21 as % of FY20'] = FY21vFY20_campaigns['Income FY21']/FY21vFY20_campaigns['Income FY20']\n",
    "FY21vFY20_campaigns = FY21vFY20_campaigns[['Bucket', 'Campaign Name', 'Income FY21', 'Income FY20', 'FY21 as % of FY20']]\n",
    "\n",
    "FY21vFY20_campaigns[\"Income FY21\"] = FY21vFY20_campaigns[\"Income FY21\"].map(\"${:,.2f}\".format)\n",
    "FY21vFY20_campaigns[\"Income FY20\"] = FY21vFY20_campaigns[\"Income FY20\"].map(\"${:,.2f}\".format)\n",
    "FY21vFY20_campaigns['FY21 as % of FY20'] = FY21vFY20_campaigns['FY21 as % of FY20'].map(\"{:,.1%}\".format)\n",
    "\n",
    "FY21vFY20_campaigns.to_csv(\"./ExcelOutputs/FY21vFY20_campaigns_08.08.20.csv\", encoding=\"utf-8\", index=True)\n",
    "FY21vFY20_campaigns"
   ]
  },
  {
   "cell_type": "code",
   "execution_count": null,
   "metadata": {},
   "outputs": [],
   "source": []
  }
 ],
 "metadata": {
  "kernelspec": {
   "display_name": "Python 3",
   "language": "python",
   "name": "python3"
  },
  "language_info": {
   "codemirror_mode": {
    "name": "ipython",
    "version": 3
   },
   "file_extension": ".py",
   "mimetype": "text/x-python",
   "name": "python",
   "nbconvert_exporter": "python",
   "pygments_lexer": "ipython3",
   "version": "3.7.4-final"
  }
 },
 "nbformat": 4,
 "nbformat_minor": 2
}