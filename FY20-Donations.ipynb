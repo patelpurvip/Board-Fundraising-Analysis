{
 "cells": [
  {
   "cell_type": "code",
   "execution_count": 8,
   "metadata": {
    "scrolled": true
   },
   "outputs": [
    {
     "output_type": "execute_result",
     "data": {
      "text/plain": "                     Campaign Name                Bucket  Income FY21  \\\n0                Sponsor a Scholar  1: Individual Giving  $12,420.45    \n1  Sponsor a Scholar - Fund a Thon  1: Individual Giving          NaN   \n2                    Appeal - June  1: Individual Giving   $9,641.00    \n3                Appeal - December  1: Individual Giving          NaN   \n4   Online appeal - Giving Tuesday  1: Individual Giving          NaN   \n\n  In-Kind Donations FY21  Volunteer Hours FY21  Income FY20  \\\n0                 $0.00                   30.0  $25,213.95    \n1                 $0.00                    NaN   $3,610.00    \n2                 $0.00                   27.0  $25,295.00    \n3                 $0.00                    NaN   $9,637.11    \n4                 $0.00                    NaN   $8,544.94    \n\n  In-Kind Donations FY20  Volunteer Hours FY20  \n0                 $0.00                   75.0  \n1                 $3.50                   20.0  \n2               $341.23                   20.0  \n3               $459.55                   20.0  \n4             $1,499.08                   36.0  ",
      "text/html": "<div>\n<style scoped>\n    .dataframe tbody tr th:only-of-type {\n        vertical-align: middle;\n    }\n\n    .dataframe tbody tr th {\n        vertical-align: top;\n    }\n\n    .dataframe thead th {\n        text-align: right;\n    }\n</style>\n<table border=\"1\" class=\"dataframe\">\n  <thead>\n    <tr style=\"text-align: right;\">\n      <th></th>\n      <th>Campaign Name</th>\n      <th>Bucket</th>\n      <th>Income FY21</th>\n      <th>In-Kind Donations FY21</th>\n      <th>Volunteer Hours FY21</th>\n      <th>Income FY20</th>\n      <th>In-Kind Donations FY20</th>\n      <th>Volunteer Hours FY20</th>\n    </tr>\n  </thead>\n  <tbody>\n    <tr>\n      <td>0</td>\n      <td>Sponsor a Scholar</td>\n      <td>1: Individual Giving</td>\n      <td>$12,420.45</td>\n      <td>$0.00</td>\n      <td>30.0</td>\n      <td>$25,213.95</td>\n      <td>$0.00</td>\n      <td>75.0</td>\n    </tr>\n    <tr>\n      <td>1</td>\n      <td>Sponsor a Scholar - Fund a Thon</td>\n      <td>1: Individual Giving</td>\n      <td>NaN</td>\n      <td>$0.00</td>\n      <td>NaN</td>\n      <td>$3,610.00</td>\n      <td>$3.50</td>\n      <td>20.0</td>\n    </tr>\n    <tr>\n      <td>2</td>\n      <td>Appeal - June</td>\n      <td>1: Individual Giving</td>\n      <td>$9,641.00</td>\n      <td>$0.00</td>\n      <td>27.0</td>\n      <td>$25,295.00</td>\n      <td>$341.23</td>\n      <td>20.0</td>\n    </tr>\n    <tr>\n      <td>3</td>\n      <td>Appeal - December</td>\n      <td>1: Individual Giving</td>\n      <td>NaN</td>\n      <td>$0.00</td>\n      <td>NaN</td>\n      <td>$9,637.11</td>\n      <td>$459.55</td>\n      <td>20.0</td>\n    </tr>\n    <tr>\n      <td>4</td>\n      <td>Online appeal - Giving Tuesday</td>\n      <td>1: Individual Giving</td>\n      <td>NaN</td>\n      <td>$0.00</td>\n      <td>NaN</td>\n      <td>$8,544.94</td>\n      <td>$1,499.08</td>\n      <td>36.0</td>\n    </tr>\n  </tbody>\n</table>\n</div>"
     },
     "metadata": {},
     "execution_count": 8
    }
   ],
   "source": [
    "%matplotlib inline\n",
    "import matplotlib.pyplot as plt\n",
    "import pandas as pd\n",
    "import numpy as np\n",
    "import scipy.stats as st\n",
    "\n",
    "step2 = \"Fundraising Strategy - Step 2, 07.21.20.csv\"\n",
    "donation_data = pd.read_csv(step2)\n",
    "donation_data.head()"
   ]
  },
  {
   "cell_type": "code",
   "execution_count": 21,
   "metadata": {
    "scrolled": true
   },
   "outputs": [
    {
     "output_type": "execute_result",
     "data": {
      "text/plain": "                     Campaign Name                Bucket  Income FY20  \\\n0                Sponsor a Scholar  1: Individual Giving     25213.95   \n1  Sponsor a Scholar - Fund a Thon  1: Individual Giving      3610.00   \n2                    Appeal - June  1: Individual Giving     25295.00   \n3                Appeal - December  1: Individual Giving      9637.11   \n4   Online appeal - Giving Tuesday  1: Individual Giving      8544.94   \n\n   In-Kind Donations FY20  Volunteer Hours FY20  \n0                    0.00                  75.0  \n1                    3.50                  20.0  \n2                  341.23                  20.0  \n3                  459.55                  20.0  \n4                 1499.08                  36.0  ",
      "text/html": "<div>\n<style scoped>\n    .dataframe tbody tr th:only-of-type {\n        vertical-align: middle;\n    }\n\n    .dataframe tbody tr th {\n        vertical-align: top;\n    }\n\n    .dataframe thead th {\n        text-align: right;\n    }\n</style>\n<table border=\"1\" class=\"dataframe\">\n  <thead>\n    <tr style=\"text-align: right;\">\n      <th></th>\n      <th>Campaign Name</th>\n      <th>Bucket</th>\n      <th>Income FY20</th>\n      <th>In-Kind Donations FY20</th>\n      <th>Volunteer Hours FY20</th>\n    </tr>\n  </thead>\n  <tbody>\n    <tr>\n      <td>0</td>\n      <td>Sponsor a Scholar</td>\n      <td>1: Individual Giving</td>\n      <td>25213.95</td>\n      <td>0.00</td>\n      <td>75.0</td>\n    </tr>\n    <tr>\n      <td>1</td>\n      <td>Sponsor a Scholar - Fund a Thon</td>\n      <td>1: Individual Giving</td>\n      <td>3610.00</td>\n      <td>3.50</td>\n      <td>20.0</td>\n    </tr>\n    <tr>\n      <td>2</td>\n      <td>Appeal - June</td>\n      <td>1: Individual Giving</td>\n      <td>25295.00</td>\n      <td>341.23</td>\n      <td>20.0</td>\n    </tr>\n    <tr>\n      <td>3</td>\n      <td>Appeal - December</td>\n      <td>1: Individual Giving</td>\n      <td>9637.11</td>\n      <td>459.55</td>\n      <td>20.0</td>\n    </tr>\n    <tr>\n      <td>4</td>\n      <td>Online appeal - Giving Tuesday</td>\n      <td>1: Individual Giving</td>\n      <td>8544.94</td>\n      <td>1499.08</td>\n      <td>36.0</td>\n    </tr>\n  </tbody>\n</table>\n</div>"
     },
     "metadata": {},
     "execution_count": 21
    }
   ],
   "source": [
    "FY20_donations = donation_data[['Campaign Name', 'Bucket', 'Income FY20', 'In-Kind Donations FY20', 'Volunteer Hours FY20']]\n",
    "FY20_donations[FY20_donations.columns[2:7]] = FY20_donations[FY20_donations.columns[2:7]].replace('[\\$,]', '', regex=True).astype(float)\n",
    "FY20_donations.head()"
   ]
  },
  {
   "cell_type": "code",
   "execution_count": 22,
   "metadata": {},
   "outputs": [
    {
     "output_type": "execute_result",
     "data": {
      "text/plain": "                     Campaign Name                Bucket  Income FY20  \\\n0                Sponsor a Scholar  1: Individual Giving     25213.95   \n1  Sponsor a Scholar - Fund a Thon  1: Individual Giving      3610.00   \n2                    Appeal - June  1: Individual Giving     25295.00   \n3                Appeal - December  1: Individual Giving      9637.11   \n4   Online appeal - Giving Tuesday  1: Individual Giving      8544.94   \n\n   In-Kind Donations FY20  Volunteer Hours FY20  Income_Percentage  \\\n0                    0.00                  75.0              0.144   \n1                    3.50                  20.0              0.021   \n2                  341.23                  20.0              0.144   \n3                  459.55                  20.0              0.055   \n4                 1499.08                  36.0              0.049   \n\n   InKind_Percentage  VolHours_Percentage  \n0              0.000                0.084  \n1              0.000                0.022  \n2              0.024                0.022  \n3              0.032                0.022  \n4              0.106                0.040  ",
      "text/html": "<div>\n<style scoped>\n    .dataframe tbody tr th:only-of-type {\n        vertical-align: middle;\n    }\n\n    .dataframe tbody tr th {\n        vertical-align: top;\n    }\n\n    .dataframe thead th {\n        text-align: right;\n    }\n</style>\n<table border=\"1\" class=\"dataframe\">\n  <thead>\n    <tr style=\"text-align: right;\">\n      <th></th>\n      <th>Campaign Name</th>\n      <th>Bucket</th>\n      <th>Income FY20</th>\n      <th>In-Kind Donations FY20</th>\n      <th>Volunteer Hours FY20</th>\n      <th>Income_Percentage</th>\n      <th>InKind_Percentage</th>\n      <th>VolHours_Percentage</th>\n    </tr>\n  </thead>\n  <tbody>\n    <tr>\n      <td>0</td>\n      <td>Sponsor a Scholar</td>\n      <td>1: Individual Giving</td>\n      <td>25213.95</td>\n      <td>0.00</td>\n      <td>75.0</td>\n      <td>0.144</td>\n      <td>0.000</td>\n      <td>0.084</td>\n    </tr>\n    <tr>\n      <td>1</td>\n      <td>Sponsor a Scholar - Fund a Thon</td>\n      <td>1: Individual Giving</td>\n      <td>3610.00</td>\n      <td>3.50</td>\n      <td>20.0</td>\n      <td>0.021</td>\n      <td>0.000</td>\n      <td>0.022</td>\n    </tr>\n    <tr>\n      <td>2</td>\n      <td>Appeal - June</td>\n      <td>1: Individual Giving</td>\n      <td>25295.00</td>\n      <td>341.23</td>\n      <td>20.0</td>\n      <td>0.144</td>\n      <td>0.024</td>\n      <td>0.022</td>\n    </tr>\n    <tr>\n      <td>3</td>\n      <td>Appeal - December</td>\n      <td>1: Individual Giving</td>\n      <td>9637.11</td>\n      <td>459.55</td>\n      <td>20.0</td>\n      <td>0.055</td>\n      <td>0.032</td>\n      <td>0.022</td>\n    </tr>\n    <tr>\n      <td>4</td>\n      <td>Online appeal - Giving Tuesday</td>\n      <td>1: Individual Giving</td>\n      <td>8544.94</td>\n      <td>1499.08</td>\n      <td>36.0</td>\n      <td>0.049</td>\n      <td>0.106</td>\n      <td>0.040</td>\n    </tr>\n  </tbody>\n</table>\n</div>"
     },
     "metadata": {},
     "execution_count": 22
    }
   ],
   "source": [
    "Total_Income = FY20_donations['Income FY20'].sum()\n",
    "Total_InKind = FY20_donations['In-Kind Donations FY20'].sum()\n",
    "Total_VolHours = FY20_donations['Volunteer Hours FY20'].sum()\n",
    "\n",
    "FY20_donations['Income_Percentage'] = round(FY20_donations['Income FY20']/Total_Income,3)\n",
    "FY20_donations['InKind_Percentage'] = round(FY20_donations['In-Kind Donations FY20']/Total_InKind,3)\n",
    "FY20_donations['VolHours_Percentage'] = round(FY20_donations['Volunteer Hours FY20']/Total_VolHours,3)\n",
    "FY20_donations.head()"
   ]
  },
  {
   "cell_type": "code",
   "execution_count": 23,
   "metadata": {},
   "outputs": [
    {
     "output_type": "execute_result",
     "data": {
      "text/plain": "                      Income FY20 In-Kind Donations FY20  \\\nBucket                                                     \n1: Individual Giving  $119,133.70             $13,464.01   \n2: Major Donors        $48,016.00                  $0.00   \n3: Grants                   $0.00                  $0.00   \n4: Corporations         $1,769.19                  $0.00   \n5: Earned Revenue       $6,225.23                $704.94   \nNo bucket                   $0.00                  $0.00   \n\n                      Volunteer Hours FY20 Income_Percentage  \\\nBucket                                                         \n1: Individual Giving                 793.0             68.1%   \n2: Major Donors                       55.0             27.4%   \n3: Grants                              1.0              0.0%   \n4: Corporations                        6.0              1.0%   \n5: Earned Revenue                     37.0              3.4%   \nNo bucket                              0.0              0.0%   \n\n                     InKind_Percentage VolHours_Percentage  \nBucket                                                      \n1: Individual Giving             95.1%               88.7%  \n2: Major Donors                   0.0%                6.2%  \n3: Grants                         0.0%                0.1%  \n4: Corporations                   0.0%                0.7%  \n5: Earned Revenue                 5.0%                4.0%  \nNo bucket                         0.0%                0.0%  ",
      "text/html": "<div>\n<style scoped>\n    .dataframe tbody tr th:only-of-type {\n        vertical-align: middle;\n    }\n\n    .dataframe tbody tr th {\n        vertical-align: top;\n    }\n\n    .dataframe thead th {\n        text-align: right;\n    }\n</style>\n<table border=\"1\" class=\"dataframe\">\n  <thead>\n    <tr style=\"text-align: right;\">\n      <th></th>\n      <th>Income FY20</th>\n      <th>In-Kind Donations FY20</th>\n      <th>Volunteer Hours FY20</th>\n      <th>Income_Percentage</th>\n      <th>InKind_Percentage</th>\n      <th>VolHours_Percentage</th>\n    </tr>\n    <tr>\n      <th>Bucket</th>\n      <th></th>\n      <th></th>\n      <th></th>\n      <th></th>\n      <th></th>\n      <th></th>\n    </tr>\n  </thead>\n  <tbody>\n    <tr>\n      <td>1: Individual Giving</td>\n      <td>$119,133.70</td>\n      <td>$13,464.01</td>\n      <td>793.0</td>\n      <td>68.1%</td>\n      <td>95.1%</td>\n      <td>88.7%</td>\n    </tr>\n    <tr>\n      <td>2: Major Donors</td>\n      <td>$48,016.00</td>\n      <td>$0.00</td>\n      <td>55.0</td>\n      <td>27.4%</td>\n      <td>0.0%</td>\n      <td>6.2%</td>\n    </tr>\n    <tr>\n      <td>3: Grants</td>\n      <td>$0.00</td>\n      <td>$0.00</td>\n      <td>1.0</td>\n      <td>0.0%</td>\n      <td>0.0%</td>\n      <td>0.1%</td>\n    </tr>\n    <tr>\n      <td>4: Corporations</td>\n      <td>$1,769.19</td>\n      <td>$0.00</td>\n      <td>6.0</td>\n      <td>1.0%</td>\n      <td>0.0%</td>\n      <td>0.7%</td>\n    </tr>\n    <tr>\n      <td>5: Earned Revenue</td>\n      <td>$6,225.23</td>\n      <td>$704.94</td>\n      <td>37.0</td>\n      <td>3.4%</td>\n      <td>5.0%</td>\n      <td>4.0%</td>\n    </tr>\n    <tr>\n      <td>No bucket</td>\n      <td>$0.00</td>\n      <td>$0.00</td>\n      <td>0.0</td>\n      <td>0.0%</td>\n      <td>0.0%</td>\n      <td>0.0%</td>\n    </tr>\n  </tbody>\n</table>\n</div>"
     },
     "metadata": {},
     "execution_count": 23
    }
   ],
   "source": [
    "FY20_by_bucket = FY20_donations.groupby(['Bucket'])\n",
    "FY20_bucket_totals = FY20_by_bucket.sum()\n",
    "\n",
    "# FORMATTING\n",
    "FY20_bucket_totals[\"Income FY20\"] = FY20_bucket_totals[\"Income FY20\"].map(\"${:,.2f}\".format)\n",
    "FY20_bucket_totals[\"In-Kind Donations FY20\"] = FY20_bucket_totals[\"In-Kind Donations FY20\"].map(\"${:,.2f}\".format)\n",
    "FY20_bucket_totals[\"Income_Percentage\"] = FY20_bucket_totals[\"Income_Percentage\"].map(\"{:,.1%}\".format)\n",
    "FY20_bucket_totals[\"InKind_Percentage\"] = FY20_bucket_totals[\"InKind_Percentage\"].map(\"{:,.1%}\".format)\n",
    "FY20_bucket_totals[\"VolHours_Percentage\"] = FY20_bucket_totals[\"VolHours_Percentage\"].map(\"{:,.1%}\".format)\n",
    "\n",
    "FY20_bucket_totals.to_csv(\"./Excel/Buckets-FY20-totals.csv\", encoding=\"utf-8\", index=False)\n",
    "FY20_bucket_totals"
   ]
  },
  {
   "cell_type": "code",
   "execution_count": 24,
   "metadata": {},
   "outputs": [
    {
     "output_type": "execute_result",
     "data": {
      "text/plain": "                     Income FY20 In-Kind Donations FY20 Volunteer Hours FY20\nBucket                                                                      \n1: Individual Giving   $7,445.86                $841.50                 49.6\n2: Major Donors       $24,008.00                  $0.00                 27.5\n3: Grants                  $0.00                  $0.00                  1.0\n4: Corporations          $884.60                  $0.00                  3.0\n5: Earned Revenue        $622.52                 $70.49                  4.1\nNo bucket                   $nan                   $nan                  nan",
      "text/html": "<div>\n<style scoped>\n    .dataframe tbody tr th:only-of-type {\n        vertical-align: middle;\n    }\n\n    .dataframe tbody tr th {\n        vertical-align: top;\n    }\n\n    .dataframe thead th {\n        text-align: right;\n    }\n</style>\n<table border=\"1\" class=\"dataframe\">\n  <thead>\n    <tr style=\"text-align: right;\">\n      <th></th>\n      <th>Income FY20</th>\n      <th>In-Kind Donations FY20</th>\n      <th>Volunteer Hours FY20</th>\n    </tr>\n    <tr>\n      <th>Bucket</th>\n      <th></th>\n      <th></th>\n      <th></th>\n    </tr>\n  </thead>\n  <tbody>\n    <tr>\n      <td>1: Individual Giving</td>\n      <td>$7,445.86</td>\n      <td>$841.50</td>\n      <td>49.6</td>\n    </tr>\n    <tr>\n      <td>2: Major Donors</td>\n      <td>$24,008.00</td>\n      <td>$0.00</td>\n      <td>27.5</td>\n    </tr>\n    <tr>\n      <td>3: Grants</td>\n      <td>$0.00</td>\n      <td>$0.00</td>\n      <td>1.0</td>\n    </tr>\n    <tr>\n      <td>4: Corporations</td>\n      <td>$884.60</td>\n      <td>$0.00</td>\n      <td>3.0</td>\n    </tr>\n    <tr>\n      <td>5: Earned Revenue</td>\n      <td>$622.52</td>\n      <td>$70.49</td>\n      <td>4.1</td>\n    </tr>\n    <tr>\n      <td>No bucket</td>\n      <td>$nan</td>\n      <td>$nan</td>\n      <td>nan</td>\n    </tr>\n  </tbody>\n</table>\n</div>"
     },
     "metadata": {},
     "execution_count": 24
    }
   ],
   "source": [
    "FY20_bucket_ave = FY20_by_bucket.mean()\n",
    "FY20_bucket_ave = FY20_bucket_ave.drop(['Income_Percentage','InKind_Percentage','VolHours_Percentage'], axis=1)\n",
    "FY20_bucket_ave[\"Income FY20\"] = FY20_bucket_ave[\"Income FY20\"].map(\"${:,.2f}\".format)\n",
    "FY20_bucket_ave[\"In-Kind Donations FY20\"] = FY20_bucket_ave[\"In-Kind Donations FY20\"].map(\"${:,.2f}\".format)\n",
    "FY20_bucket_ave[\"Volunteer Hours FY20\"] = FY20_bucket_ave[\"Volunteer Hours FY20\"].map(\"{:.1f}\".format)\n",
    "\n",
    "FY20_bucket_ave.to_csv(\"./Excel/Buckets-FY20-avg.csv\", encoding=\"utf-8\", index=False)\n",
    "FY20_bucket_ave"
   ]
  },
  {
   "cell_type": "code",
   "execution_count": null,
   "metadata": {},
   "outputs": [],
   "source": []
  },
  {
   "cell_type": "code",
   "execution_count": null,
   "metadata": {},
   "outputs": [],
   "source": []
  }
 ],
 "metadata": {
  "kernelspec": {
   "display_name": "Python 3",
   "language": "python",
   "name": "python3"
  },
  "language_info": {
   "codemirror_mode": {
    "name": "ipython",
    "version": 3
   },
   "file_extension": ".py",
   "mimetype": "text/x-python",
   "name": "python",
   "nbconvert_exporter": "python",
   "pygments_lexer": "ipython3",
   "version": "3.7.4-final"
  }
 },
 "nbformat": 4,
 "nbformat_minor": 2
}