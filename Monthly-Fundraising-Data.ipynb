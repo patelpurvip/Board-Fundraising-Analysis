{
 "cells": [
  {
   "cell_type": "markdown",
   "metadata": {},
   "source": [
    "# Non-Profit Org donation income by month"
   ]
  },
  {
   "cell_type": "code",
   "execution_count": 2,
   "metadata": {},
   "outputs": [],
   "source": [
    "%matplotlib inline\n",
    "import matplotlib.pyplot as plt\n",
    "import pandas as pd\n",
    "import numpy as np\n",
    "import scipy.stats as st\n",
    "\n",
    "monthly_donations = \"donation_data.csv\"\n",
    "donation_data = pd.read_csv(monthly_donations)"
   ]
  },
  {
   "cell_type": "code",
   "execution_count": 3,
   "metadata": {},
   "outputs": [
    {
     "data": {
      "text/html": [
       "<div>\n",
       "<style scoped>\n",
       "    .dataframe tbody tr th:only-of-type {\n",
       "        vertical-align: middle;\n",
       "    }\n",
       "\n",
       "    .dataframe tbody tr th {\n",
       "        vertical-align: top;\n",
       "    }\n",
       "\n",
       "    .dataframe thead th {\n",
       "        text-align: right;\n",
       "    }\n",
       "</style>\n",
       "<table border=\"1\" class=\"dataframe\">\n",
       "  <thead>\n",
       "    <tr style=\"text-align: right;\">\n",
       "      <th></th>\n",
       "      <th>FY</th>\n",
       "      <th>April</th>\n",
       "      <th>May</th>\n",
       "      <th>June</th>\n",
       "      <th>July</th>\n",
       "      <th>August</th>\n",
       "      <th>September</th>\n",
       "      <th>October</th>\n",
       "      <th>November</th>\n",
       "      <th>December</th>\n",
       "      <th>January</th>\n",
       "      <th>Februay</th>\n",
       "      <th>March</th>\n",
       "    </tr>\n",
       "  </thead>\n",
       "  <tbody>\n",
       "    <tr>\n",
       "      <td>0</td>\n",
       "      <td>FY15</td>\n",
       "      <td>$10,186.46</td>\n",
       "      <td>$1,401.27</td>\n",
       "      <td>$5,227.32</td>\n",
       "      <td>$8,971.53</td>\n",
       "      <td>$14,566.87</td>\n",
       "      <td>$6,401.00</td>\n",
       "      <td>$4,301.00</td>\n",
       "      <td>$899.93</td>\n",
       "      <td>$13,723.05</td>\n",
       "      <td>$20,355.00</td>\n",
       "      <td>$1,006.50</td>\n",
       "      <td>$11,441.38</td>\n",
       "    </tr>\n",
       "    <tr>\n",
       "      <td>1</td>\n",
       "      <td>FY16</td>\n",
       "      <td>$13,142.04</td>\n",
       "      <td>$3,411.41</td>\n",
       "      <td>$7,615.61</td>\n",
       "      <td>$19,220.64</td>\n",
       "      <td>$5,928.25</td>\n",
       "      <td>$18,355.00</td>\n",
       "      <td>$5,921.23</td>\n",
       "      <td>$19,196.30</td>\n",
       "      <td>$25,008.29</td>\n",
       "      <td>$3,616.66</td>\n",
       "      <td>$4,207.51</td>\n",
       "      <td>$12,504.90</td>\n",
       "    </tr>\n",
       "    <tr>\n",
       "      <td>2</td>\n",
       "      <td>FY17</td>\n",
       "      <td>$15,958.20</td>\n",
       "      <td>$7,640.55</td>\n",
       "      <td>$7,741.50</td>\n",
       "      <td>$10,241.60</td>\n",
       "      <td>$5,387.55</td>\n",
       "      <td>$8,101.91</td>\n",
       "      <td>$80,701.15</td>\n",
       "      <td>$12,063.94</td>\n",
       "      <td>$11,937.71</td>\n",
       "      <td>$7,866.00</td>\n",
       "      <td>$8,526.81</td>\n",
       "      <td>$8,298.20</td>\n",
       "    </tr>\n",
       "    <tr>\n",
       "      <td>3</td>\n",
       "      <td>FY18</td>\n",
       "      <td>$25,398.18</td>\n",
       "      <td>$6,634.32</td>\n",
       "      <td>$17,131.36</td>\n",
       "      <td>$9,936.50</td>\n",
       "      <td>$8,769.53</td>\n",
       "      <td>$77,415.00</td>\n",
       "      <td>$6,444.19</td>\n",
       "      <td>$9,070.67</td>\n",
       "      <td>$38,717.80</td>\n",
       "      <td>$4,461.70</td>\n",
       "      <td>$4,063.13</td>\n",
       "      <td>$20,382.79</td>\n",
       "    </tr>\n",
       "    <tr>\n",
       "      <td>4</td>\n",
       "      <td>FY19</td>\n",
       "      <td>$28,576.33</td>\n",
       "      <td>$4,721.55</td>\n",
       "      <td>$3,573.14</td>\n",
       "      <td>$8,591.17</td>\n",
       "      <td>$11,444.92</td>\n",
       "      <td>$69,055.56</td>\n",
       "      <td>$32,943.97</td>\n",
       "      <td>$6,015.42</td>\n",
       "      <td>$18,838.74</td>\n",
       "      <td>$3,472.01</td>\n",
       "      <td>$4,717.02</td>\n",
       "      <td>$14,472.35</td>\n",
       "    </tr>\n",
       "  </tbody>\n",
       "</table>\n",
       "</div>"
      ],
      "text/plain": [
       "     FY        April         May         June         July       August  \\\n",
       "0  FY15  $10,186.46   $1,401.27    $5,227.32    $8,971.53   $14,566.87    \n",
       "1  FY16  $13,142.04   $3,411.41    $7,615.61   $19,220.64    $5,928.25    \n",
       "2  FY17  $15,958.20   $7,640.55    $7,741.50   $10,241.60    $5,387.55    \n",
       "3  FY18  $25,398.18   $6,634.32   $17,131.36    $9,936.50    $8,769.53    \n",
       "4  FY19  $28,576.33   $4,721.55    $3,573.14    $8,591.17   $11,444.92    \n",
       "\n",
       "     September      October     November     December      January  \\\n",
       "0   $6,401.00    $4,301.00      $899.93   $13,723.05   $20,355.00    \n",
       "1  $18,355.00    $5,921.23   $19,196.30   $25,008.29    $3,616.66    \n",
       "2   $8,101.91   $80,701.15   $12,063.94   $11,937.71    $7,866.00    \n",
       "3  $77,415.00    $6,444.19    $9,070.67   $38,717.80    $4,461.70    \n",
       "4  $69,055.56   $32,943.97    $6,015.42   $18,838.74    $3,472.01    \n",
       "\n",
       "      Februay        March  \n",
       "0  $1,006.50   $11,441.38   \n",
       "1  $4,207.51   $12,504.90   \n",
       "2  $8,526.81    $8,298.20   \n",
       "3  $4,063.13   $20,382.79   \n",
       "4  $4,717.02   $14,472.35   "
      ]
     },
     "execution_count": 3,
     "metadata": {},
     "output_type": "execute_result"
    }
   ],
   "source": [
    "donation_data.head()"
   ]
  },
  {
   "cell_type": "code",
   "execution_count": 4,
   "metadata": {},
   "outputs": [
    {
     "data": {
      "text/plain": [
       "FY           object\n",
       "April        object\n",
       "May          object\n",
       "June         object\n",
       "July         object\n",
       "August       object\n",
       "September    object\n",
       "October      object\n",
       "November     object\n",
       "December     object\n",
       "January      object\n",
       "Februay      object\n",
       "March        object\n",
       "dtype: object"
      ]
     },
     "execution_count": 4,
     "metadata": {},
     "output_type": "execute_result"
    }
   ],
   "source": [
    "donation_data.dtypes"
   ]
  },
  {
   "cell_type": "code",
   "execution_count": null,
   "metadata": {},
   "outputs": [],
   "source": [
    "df = donation_data.set_index(['FY'])\n",
    "df = df.rename(columns={\"Februay\":\"February\"})\n",
    "df"
   ]
  },
  {
   "cell_type": "code",
   "execution_count": null,
   "metadata": {},
   "outputs": [],
   "source": [
    "df[df.columns[0:]] = df[df.columns[0:]].replace('[\\$,]', '', regex=True).astype(float)\n",
    "df"
   ]
  },
  {
   "cell_type": "code",
   "execution_count": null,
   "metadata": {},
   "outputs": [],
   "source": [
    "df.dtypes"
   ]
  },
  {
   "cell_type": "code",
   "execution_count": null,
   "metadata": {},
   "outputs": [],
   "source": [
    "df = df[['January', 'February', 'March', 'April', 'May', 'June', 'July', 'August', 'September', 'October', 'November', 'December']] \n",
    "df"
   ]
  },
  {
   "cell_type": "code",
   "execution_count": null,
   "metadata": {},
   "outputs": [],
   "source": [
    "FY15 = df.iloc[0]\n",
    "FY16 = df.iloc[1]\n",
    "FY17 = df.iloc[2]\n",
    "FY18 = df.iloc[3]\n",
    "FY19 = df.iloc[4]\n",
    "FY20 = df.iloc[5]"
   ]
  },
  {
   "cell_type": "code",
   "execution_count": null,
   "metadata": {},
   "outputs": [],
   "source": [
    "# FY15_array = FY15.to_list()\n",
    "# FY16_array = FY16.to_list()\n",
    "# FY17_array = FY17.to_list()\n",
    "# FY18_array = FY18.to_list()\n",
    "# FY19_array = FY19.to_list()\n",
    "# FY20_array = FY20.to_list()"
   ]
  },
  {
   "cell_type": "code",
   "execution_count": null,
   "metadata": {},
   "outputs": [],
   "source": [
    "months = ['January', 'February', 'March', 'April', 'May', 'June', 'July', 'August', 'September', 'October', 'November', 'December']\n",
    "\n",
    "fig = plt.figure(figsize=(10,6))\n",
    "\n",
    "plt.plot(months, FY15, color=\"blue\", label=\"FY15\")\n",
    "plt.plot(months, FY16, color=\"red\", label=\"FY16\")\n",
    "plt.plot(months, FY17, color=\"green\", label=\"FY17\")\n",
    "plt.plot(months, FY18, color=\"orange\", label=\"FY18\")\n",
    "plt.plot(months, FY19, color=\"black\", label=\"FY19\")\n",
    "plt.plot(months, FY20, color=\"magenta\", label=\"FY20\")\n",
    "\n",
    "plt.title(\"Donations by FY\")\n",
    "plt.xlabel(\"Month in Fiscal Year\")\n",
    "plt.ylabel(\"Donations Received ($USD)\")\n",
    "\n",
    "\n",
    "plt.xticks(months, rotation=45)\n",
    "plt.legend(loc=\"upper left\")\n",
    "\n",
    "plt.savefig(\"./Images/fundraising_by_FY.png\")\n",
    "plt.show()\n"
   ]
  },
  {
   "cell_type": "code",
   "execution_count": null,
   "metadata": {},
   "outputs": [],
   "source": [
    "fig = plt.figure(figsize=(10,6))\n",
    "\n",
    "plt.plot(months, FY15, color=\"blue\", label=\"FY15\")\n",
    "plt.plot(months, FY16, color=\"red\", label=\"FY16\")\n",
    "\n",
    "\n",
    "plt.title(\"Donations by FY\")\n",
    "plt.xlabel(\"Month in Fiscal Year\")\n",
    "plt.ylabel(\"Donations Received ($USD)\")\n",
    "\n",
    "\n",
    "plt.xticks(months, rotation=45)\n",
    "plt.legend(loc=\"upper left\")\n",
    "\n",
    "plt.savefig(\"./Images/FY15-FY16.png\")\n",
    "plt.show()\n"
   ]
  },
  {
   "cell_type": "code",
   "execution_count": null,
   "metadata": {},
   "outputs": [],
   "source": [
    "fig = plt.figure(figsize=(10,6))\n",
    "\n",
    "plt.plot(months, FY17, color=\"green\", label=\"FY17\")\n",
    "plt.plot(months, FY18, color=\"orange\", label=\"FY18\")\n",
    "plt.plot(months, FY19, color=\"black\", label=\"FY19\")\n",
    "plt.plot(months, FY20, color=\"magenta\", label=\"FY20\")\n",
    "\n",
    "plt.title(\"Donations by FY\")\n",
    "plt.xlabel(\"Month in Fiscal Year\")\n",
    "plt.ylabel(\"Donations Received ($USD)\")\n",
    "\n",
    "\n",
    "plt.xticks(months, rotation=45)\n",
    "plt.legend(loc=\"upper left\")\n",
    "\n",
    "plt.savefig(\"./Images/FY17-FY20.png\")\n",
    "plt.show()\n"
   ]
  },
  {
   "cell_type": "code",
   "execution_count": null,
   "metadata": {},
   "outputs": [],
   "source": [
    "ave_monthly = df.mean()\n",
    "ave_monthly"
   ]
  },
  {
   "cell_type": "code",
   "execution_count": null,
   "metadata": {},
   "outputs": [],
   "source": [
    "fig = plt.figure(figsize=(10,6))\n",
    "\n",
    "plt.plot(months, ave_monthly, color=\"orange\")\n",
    "\n",
    "plt.title(\"Average Monthly Donations: FY15-FY20\")\n",
    "plt.xlabel(\"Month in Calendar Year\")\n",
    "plt.ylabel(\"Donations Received ($USD)\")\n",
    "\n",
    "\n",
    "plt.xticks(months, rotation=45)\n",
    "\n",
    "plt.savefig(\"./Images/Ave_FY15-FY20.png\")\n",
    "plt.show()"
   ]
  },
  {
   "cell_type": "code",
   "execution_count": null,
   "metadata": {},
   "outputs": [],
   "source": []
  }
 ],
 "metadata": {
  "kernelspec": {
   "display_name": "Python 3",
   "language": "python",
   "name": "python3"
  },
  "language_info": {
   "codemirror_mode": {
    "name": "ipython",
    "version": 3
   },
   "file_extension": ".py",
   "mimetype": "text/x-python",
   "name": "python",
   "nbconvert_exporter": "python",
   "pygments_lexer": "ipython3",
   "version": "3.7.4"
  }
 },
 "nbformat": 4,
 "nbformat_minor": 2
}
