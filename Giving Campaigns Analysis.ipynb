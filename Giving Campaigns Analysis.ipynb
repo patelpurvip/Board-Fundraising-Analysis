{
 "cells": [
  {
   "cell_type": "code",
   "execution_count": 25,
   "metadata": {},
   "outputs": [
    {
     "output_type": "execute_result",
     "data": {
      "text/plain": "                     Campaign Name                Bucket  Income FY21  \\\n0                Sponsor a Scholar  1: Individual Giving   $12,420.45   \n1  Sponsor a Scholar - Fund a Thon  1: Individual Giving  coming soon   \n2                    Appeal - June  1: Individual Giving    $9,641.00   \n3                Appeal - December  1: Individual Giving  coming soon   \n4   Online appeal - Giving Tuesday  1: Individual Giving  coming soon   \n\n  In-Kind Donations FY21 Volunteer Hours FY21 Income FY20  \\\n0                  $0.00                   30  $25,213.95   \n1                  $0.00          coming soon   $3,610.00   \n2                  $0.00                   27  $25,295.00   \n3                  $0.00          coming soon   $9,637.11   \n4                  $0.00          coming soon   $8,544.94   \n\n  In-Kind Donations FY20  Volunteer Hours FY20  \n0                  $0.00                  75.0  \n1                  $3.50                  20.0  \n2                $341.23                  20.0  \n3                $459.55                  20.0  \n4              $1,499.08                  36.0  ",
      "text/html": "<div>\n<style scoped>\n    .dataframe tbody tr th:only-of-type {\n        vertical-align: middle;\n    }\n\n    .dataframe tbody tr th {\n        vertical-align: top;\n    }\n\n    .dataframe thead th {\n        text-align: right;\n    }\n</style>\n<table border=\"1\" class=\"dataframe\">\n  <thead>\n    <tr style=\"text-align: right;\">\n      <th></th>\n      <th>Campaign Name</th>\n      <th>Bucket</th>\n      <th>Income FY21</th>\n      <th>In-Kind Donations FY21</th>\n      <th>Volunteer Hours FY21</th>\n      <th>Income FY20</th>\n      <th>In-Kind Donations FY20</th>\n      <th>Volunteer Hours FY20</th>\n    </tr>\n  </thead>\n  <tbody>\n    <tr>\n      <td>0</td>\n      <td>Sponsor a Scholar</td>\n      <td>1: Individual Giving</td>\n      <td>$12,420.45</td>\n      <td>$0.00</td>\n      <td>30</td>\n      <td>$25,213.95</td>\n      <td>$0.00</td>\n      <td>75.0</td>\n    </tr>\n    <tr>\n      <td>1</td>\n      <td>Sponsor a Scholar - Fund a Thon</td>\n      <td>1: Individual Giving</td>\n      <td>coming soon</td>\n      <td>$0.00</td>\n      <td>coming soon</td>\n      <td>$3,610.00</td>\n      <td>$3.50</td>\n      <td>20.0</td>\n    </tr>\n    <tr>\n      <td>2</td>\n      <td>Appeal - June</td>\n      <td>1: Individual Giving</td>\n      <td>$9,641.00</td>\n      <td>$0.00</td>\n      <td>27</td>\n      <td>$25,295.00</td>\n      <td>$341.23</td>\n      <td>20.0</td>\n    </tr>\n    <tr>\n      <td>3</td>\n      <td>Appeal - December</td>\n      <td>1: Individual Giving</td>\n      <td>coming soon</td>\n      <td>$0.00</td>\n      <td>coming soon</td>\n      <td>$9,637.11</td>\n      <td>$459.55</td>\n      <td>20.0</td>\n    </tr>\n    <tr>\n      <td>4</td>\n      <td>Online appeal - Giving Tuesday</td>\n      <td>1: Individual Giving</td>\n      <td>coming soon</td>\n      <td>$0.00</td>\n      <td>coming soon</td>\n      <td>$8,544.94</td>\n      <td>$1,499.08</td>\n      <td>36.0</td>\n    </tr>\n  </tbody>\n</table>\n</div>"
     },
     "metadata": {},
     "execution_count": 25
    }
   ],
   "source": [
    "%matplotlib inline\n",
    "import matplotlib.pyplot as plt\n",
    "import pandas as pd\n",
    "import numpy as np\n",
    "import scipy.stats as st\n",
    "\n",
    "step2 = \"Fundraising Strategy - Step 2, 08.07.20.csv\"\n",
    "donation_data = pd.read_csv(step2)\n",
    "donation_data.head()"
   ]
  },
  {
   "cell_type": "code",
   "execution_count": 26,
   "metadata": {},
   "outputs": [],
   "source": [
    "# donation_data[donation_data.columns[2:7]] = donation_data[donation_data.columns[2:7]].replace('[\\$,]', '', regex=True).astype(float)\n",
    "# donation_data"
   ]
  },
  {
   "cell_type": "code",
   "execution_count": 27,
   "metadata": {},
   "outputs": [
    {
     "output_type": "execute_result",
     "data": {
      "text/plain": "                                       Campaign Name Expenses FY21  \\\n0  Benefit Dinner (occuring April 2020) (SPANS TW...       $250.00   \n1                    Sponsor a Scholar - Fund a Thon         $0.00   \n2                                      Appeal - June       $210.06   \n3                                 Ecua vols/visitors         $0.00   \n4                     Online event - Starfish Search         $0.00   \n\n  Expenses FY20 Funds Raised FY20  \n0     $3,220.00        $65,987.57  \n1         $0.00         $3,610.00  \n2         $0.00        $25,295.00  \n3        $25.00         $5,487.46  \n4       $302.00         $1,268.00  ",
      "text/html": "<div>\n<style scoped>\n    .dataframe tbody tr th:only-of-type {\n        vertical-align: middle;\n    }\n\n    .dataframe tbody tr th {\n        vertical-align: top;\n    }\n\n    .dataframe thead th {\n        text-align: right;\n    }\n</style>\n<table border=\"1\" class=\"dataframe\">\n  <thead>\n    <tr style=\"text-align: right;\">\n      <th></th>\n      <th>Campaign Name</th>\n      <th>Expenses FY21</th>\n      <th>Expenses FY20</th>\n      <th>Funds Raised FY20</th>\n    </tr>\n  </thead>\n  <tbody>\n    <tr>\n      <td>0</td>\n      <td>Benefit Dinner (occuring April 2020) (SPANS TW...</td>\n      <td>$250.00</td>\n      <td>$3,220.00</td>\n      <td>$65,987.57</td>\n    </tr>\n    <tr>\n      <td>1</td>\n      <td>Sponsor a Scholar - Fund a Thon</td>\n      <td>$0.00</td>\n      <td>$0.00</td>\n      <td>$3,610.00</td>\n    </tr>\n    <tr>\n      <td>2</td>\n      <td>Appeal - June</td>\n      <td>$210.06</td>\n      <td>$0.00</td>\n      <td>$25,295.00</td>\n    </tr>\n    <tr>\n      <td>3</td>\n      <td>Ecua vols/visitors</td>\n      <td>$0.00</td>\n      <td>$25.00</td>\n      <td>$5,487.46</td>\n    </tr>\n    <tr>\n      <td>4</td>\n      <td>Online event - Starfish Search</td>\n      <td>$0.00</td>\n      <td>$302.00</td>\n      <td>$1,268.00</td>\n    </tr>\n  </tbody>\n</table>\n</div>"
     },
     "metadata": {},
     "execution_count": 27
    }
   ],
   "source": [
    "expenses_import = \"Advancement Calendar - FY21 calendar, 08.08.20.csv\"\n",
    "expenses_data = pd.read_csv(expenses_import)\n",
    "expenses = expenses_data[['Event', 'Expenses FY21', 'Expenses FY20', 'Funds Raised FY20']]\n",
    "\n",
    "expenses = expenses.rename(columns={\"Event\": \"Campaign Name\"})\n",
    "expenses.head()"
   ]
  },
  {
   "cell_type": "code",
   "execution_count": 29,
   "metadata": {},
   "outputs": [
    {
     "output_type": "execute_result",
     "data": {
      "text/plain": "                 Bucket                    Campaign Name Expenses FY21  \\\n0  1: Individual Giving                Sponsor a Scholar         $0.00   \n1  1: Individual Giving  Sponsor a Scholar - Fund a Thon         $0.00   \n2  1: Individual Giving                    Appeal - June       $210.06   \n3  1: Individual Giving                Appeal - December         $0.00   \n4  1: Individual Giving   Online appeal - Giving Tuesday         $0.00   \n\n   Income FY21 In-Kind Donations FY21 Volunteer Hours FY21 Expenses FY20  \\\n0   $12,420.45                  $0.00                   30         $0.00   \n1  coming soon                  $0.00          coming soon         $0.00   \n2    $9,641.00                  $0.00                   27         $0.00   \n3  coming soon                  $0.00          coming soon       $224.92   \n4  coming soon                  $0.00          coming soon        $25.50   \n\n  Funds Raised FY20 Income FY20 In-Kind Donations FY21 Volunteer Hours FY21  \n0        $25,213.95  $25,213.95                  $0.00                   30  \n1         $3,610.00   $3,610.00                  $0.00          coming soon  \n2        $25,295.00  $25,295.00                  $0.00                   27  \n3         $9,637.11   $9,637.11                  $0.00          coming soon  \n4         $8,544.94   $8,544.94                  $0.00          coming soon  ",
      "text/html": "<div>\n<style scoped>\n    .dataframe tbody tr th:only-of-type {\n        vertical-align: middle;\n    }\n\n    .dataframe tbody tr th {\n        vertical-align: top;\n    }\n\n    .dataframe thead th {\n        text-align: right;\n    }\n</style>\n<table border=\"1\" class=\"dataframe\">\n  <thead>\n    <tr style=\"text-align: right;\">\n      <th></th>\n      <th>Bucket</th>\n      <th>Campaign Name</th>\n      <th>Expenses FY21</th>\n      <th>Income FY21</th>\n      <th>In-Kind Donations FY21</th>\n      <th>Volunteer Hours FY21</th>\n      <th>Expenses FY20</th>\n      <th>Funds Raised FY20</th>\n      <th>Income FY20</th>\n      <th>In-Kind Donations FY21</th>\n      <th>Volunteer Hours FY21</th>\n    </tr>\n  </thead>\n  <tbody>\n    <tr>\n      <td>0</td>\n      <td>1: Individual Giving</td>\n      <td>Sponsor a Scholar</td>\n      <td>$0.00</td>\n      <td>$12,420.45</td>\n      <td>$0.00</td>\n      <td>30</td>\n      <td>$0.00</td>\n      <td>$25,213.95</td>\n      <td>$25,213.95</td>\n      <td>$0.00</td>\n      <td>30</td>\n    </tr>\n    <tr>\n      <td>1</td>\n      <td>1: Individual Giving</td>\n      <td>Sponsor a Scholar - Fund a Thon</td>\n      <td>$0.00</td>\n      <td>coming soon</td>\n      <td>$0.00</td>\n      <td>coming soon</td>\n      <td>$0.00</td>\n      <td>$3,610.00</td>\n      <td>$3,610.00</td>\n      <td>$0.00</td>\n      <td>coming soon</td>\n    </tr>\n    <tr>\n      <td>2</td>\n      <td>1: Individual Giving</td>\n      <td>Appeal - June</td>\n      <td>$210.06</td>\n      <td>$9,641.00</td>\n      <td>$0.00</td>\n      <td>27</td>\n      <td>$0.00</td>\n      <td>$25,295.00</td>\n      <td>$25,295.00</td>\n      <td>$0.00</td>\n      <td>27</td>\n    </tr>\n    <tr>\n      <td>3</td>\n      <td>1: Individual Giving</td>\n      <td>Appeal - December</td>\n      <td>$0.00</td>\n      <td>coming soon</td>\n      <td>$0.00</td>\n      <td>coming soon</td>\n      <td>$224.92</td>\n      <td>$9,637.11</td>\n      <td>$9,637.11</td>\n      <td>$0.00</td>\n      <td>coming soon</td>\n    </tr>\n    <tr>\n      <td>4</td>\n      <td>1: Individual Giving</td>\n      <td>Online appeal - Giving Tuesday</td>\n      <td>$0.00</td>\n      <td>coming soon</td>\n      <td>$0.00</td>\n      <td>coming soon</td>\n      <td>$25.50</td>\n      <td>$8,544.94</td>\n      <td>$8,544.94</td>\n      <td>$0.00</td>\n      <td>coming soon</td>\n    </tr>\n  </tbody>\n</table>\n</div>"
     },
     "metadata": {},
     "execution_count": 29
    }
   ],
   "source": [
    "income_vs_expense = pd.merge(donation_data, expenses, how=\"left\", on='Campaign Name')\n",
    "income_vs_expense = income_vs_expense[['Bucket', 'Campaign Name', 'Expenses FY21', 'Income FY21', 'In-Kind Donations FY21', 'Volunteer Hours FY21', 'Expenses FY20', 'Funds Raised FY20', 'Income FY20', 'In-Kind Donations FY21', 'Volunteer Hours FY21']]\n",
    "income_vs_expense.head()"
   ]
  },
  {
   "cell_type": "code",
   "execution_count": 22,
   "metadata": {},
   "outputs": [
    {
     "output_type": "execute_result",
     "data": {
      "text/plain": "array(['Sponsor a Scholar', 'Sponsor a Scholar - Fund a Thon',\n       'Appeal - June', 'Appeal - December',\n       'Online appeal - Giving Tuesday', 'Online event - Starfish Search',\n       'Online event - Starfish Bracket Challenge', 'Lapsed Donors',\n       'Benefit dinner tickets', 'Benefit dinner individual donations',\n       'Benefit dinner auction', 'Events - CT/NE',\n       'Events - not recurring', 'Events - Ecuador',\n       'Birthdays and weddings', 'Unsolicited Gifts',\n       'Benefit dinner sponsorships (5)', 'University Efforts', 'Grants',\n       'Benefit dinner sponsorships (1)', 'Matching donations (10)',\n       'Ecua vols/visitors', 'Benefit dinner item sales',\n       'Pura Vida sales', 'Dream Book sales', 'Popsocket sales',\n       'Photo sales', 'Speaking events', 'Amazon Smile', 'CafePress',\n       'Goodshop', nan, 'Thank-a-thon', '4th quarter press'], dtype=object)"
     },
     "metadata": {},
     "execution_count": 22
    }
   ],
   "source": [
    "income_vs_expense['Campaign Name'].unique()"
   ]
  },
  {
   "cell_type": "code",
   "execution_count": 32,
   "metadata": {},
   "outputs": [],
   "source": [
    "# CAN'T FIGURE OUT WHY DROPPING ROWS DONT WORK.....\n",
    "\n",
    "# income_vs_expense.set_index('Campaign Name')\n",
    "# income_vs_expense.drop('Sponsor a Scholar', 'Sponsor a Scholar - Fund a Thon', 'Appeal - December', 'Online event - Starfish Search', 'Online event - Starfish Bracket Challenge', 'Lapsed Donors', 'Events - CT/NE', inplace=False)\n",
    "\n",
    "# # 'Events - not recurring', 'Events - Ecuador', 'Birthdays and weddings', 'Unsolicited Gifts', 'University Efforts', 'Grants', 'nan', 'Thank-a-thon', '4th quarter press'\n",
    "# income_vs_expense"
   ]
  },
  {
   "cell_type": "code",
   "execution_count": null,
   "metadata": {},
   "outputs": [],
   "source": []
  }
 ],
 "metadata": {
  "kernelspec": {
   "display_name": "Python 3",
   "language": "python",
   "name": "python3"
  },
  "language_info": {
   "codemirror_mode": {
    "name": "ipython",
    "version": 3
   },
   "file_extension": ".py",
   "mimetype": "text/x-python",
   "name": "python",
   "nbconvert_exporter": "python",
   "pygments_lexer": "ipython3",
   "version": "3.7.4-final"
  }
 },
 "nbformat": 4,
 "nbformat_minor": 2
}