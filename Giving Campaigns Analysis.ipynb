{
 "cells": [
  {
   "cell_type": "code",
   "execution_count": 117,
   "metadata": {},
   "outputs": [],
   "source": [
    "%matplotlib inline\n",
    "import matplotlib.pyplot as plt\n",
    "import pandas as pd\n",
    "import numpy as np\n",
    "import scipy.stats as st\n",
    "\n",
    "step2 = \"Fundraising Strategy - Step 2, 08.07.20.csv\"\n",
    "donation_data = pd.read_csv(step2)\n",
    "# donation_data.head()"
   ]
  },
  {
   "cell_type": "code",
   "execution_count": 118,
   "metadata": {},
   "outputs": [
    {
     "output_type": "execute_result",
     "data": {
      "text/plain": "                                       Campaign Name Expenses FY21  \\\n0  Benefit Dinner (occuring April 2020) (SPANS TW...       $250.00   \n1                    Sponsor a Scholar - Fund a Thon         $0.00   \n2                                      Appeal - June       $210.06   \n3                                 Ecua vols/visitors         $0.00   \n4                     Online event - Starfish Search         $0.00   \n\n  Expenses FY20 Funds Raised FY20  \n0     $3,220.00        $65,987.57  \n1         $0.00         $3,610.00  \n2         $0.00        $25,295.00  \n3        $25.00         $5,487.46  \n4       $302.00         $1,268.00  ",
      "text/html": "<div>\n<style scoped>\n    .dataframe tbody tr th:only-of-type {\n        vertical-align: middle;\n    }\n\n    .dataframe tbody tr th {\n        vertical-align: top;\n    }\n\n    .dataframe thead th {\n        text-align: right;\n    }\n</style>\n<table border=\"1\" class=\"dataframe\">\n  <thead>\n    <tr style=\"text-align: right;\">\n      <th></th>\n      <th>Campaign Name</th>\n      <th>Expenses FY21</th>\n      <th>Expenses FY20</th>\n      <th>Funds Raised FY20</th>\n    </tr>\n  </thead>\n  <tbody>\n    <tr>\n      <td>0</td>\n      <td>Benefit Dinner (occuring April 2020) (SPANS TW...</td>\n      <td>$250.00</td>\n      <td>$3,220.00</td>\n      <td>$65,987.57</td>\n    </tr>\n    <tr>\n      <td>1</td>\n      <td>Sponsor a Scholar - Fund a Thon</td>\n      <td>$0.00</td>\n      <td>$0.00</td>\n      <td>$3,610.00</td>\n    </tr>\n    <tr>\n      <td>2</td>\n      <td>Appeal - June</td>\n      <td>$210.06</td>\n      <td>$0.00</td>\n      <td>$25,295.00</td>\n    </tr>\n    <tr>\n      <td>3</td>\n      <td>Ecua vols/visitors</td>\n      <td>$0.00</td>\n      <td>$25.00</td>\n      <td>$5,487.46</td>\n    </tr>\n    <tr>\n      <td>4</td>\n      <td>Online event - Starfish Search</td>\n      <td>$0.00</td>\n      <td>$302.00</td>\n      <td>$1,268.00</td>\n    </tr>\n  </tbody>\n</table>\n</div>"
     },
     "metadata": {},
     "execution_count": 118
    }
   ],
   "source": [
    "expenses_import = \"Advancement Calendar - FY21 calendar, 08.08.20.csv\"\n",
    "expenses_data = pd.read_csv(expenses_import)\n",
    "expenses = expenses_data[['Event', 'Expenses FY21', 'Expenses FY20', 'Funds Raised FY20']]\n",
    "\n",
    "expenses = expenses.rename(columns={\"Event\": \"Campaign Name\"})\n",
    "expenses.head()"
   ]
  },
  {
   "cell_type": "code",
   "execution_count": 119,
   "metadata": {},
   "outputs": [
    {
     "output_type": "execute_result",
     "data": {
      "text/plain": "                 Bucket                    Campaign Name Expenses FY21  \\\n0  1: Individual Giving                Sponsor a Scholar         $0.00   \n1  1: Individual Giving  Sponsor a Scholar - Fund a Thon         $0.00   \n2  1: Individual Giving                    Appeal - June       $210.06   \n3  1: Individual Giving                Appeal - December         $0.00   \n4  1: Individual Giving   Online appeal - Giving Tuesday         $0.00   \n\n   Income FY21 In-Kind Donations FY21 Volunteer Hours FY21 Expenses FY20  \\\n0   $12,420.45                  $0.00                   30         $0.00   \n1  coming soon                  $0.00          coming soon         $0.00   \n2    $9,641.00                  $0.00                   27         $0.00   \n3  coming soon                  $0.00          coming soon       $224.92   \n4  coming soon                  $0.00          coming soon        $25.50   \n\n  Income FY20 In-Kind Donations FY20  Volunteer Hours FY20  \n0  $25,213.95                  $0.00                  75.0  \n1   $3,610.00                  $3.50                  20.0  \n2  $25,295.00                $341.23                  20.0  \n3   $9,637.11                $459.55                  20.0  \n4   $8,544.94              $1,499.08                  36.0  ",
      "text/html": "<div>\n<style scoped>\n    .dataframe tbody tr th:only-of-type {\n        vertical-align: middle;\n    }\n\n    .dataframe tbody tr th {\n        vertical-align: top;\n    }\n\n    .dataframe thead th {\n        text-align: right;\n    }\n</style>\n<table border=\"1\" class=\"dataframe\">\n  <thead>\n    <tr style=\"text-align: right;\">\n      <th></th>\n      <th>Bucket</th>\n      <th>Campaign Name</th>\n      <th>Expenses FY21</th>\n      <th>Income FY21</th>\n      <th>In-Kind Donations FY21</th>\n      <th>Volunteer Hours FY21</th>\n      <th>Expenses FY20</th>\n      <th>Income FY20</th>\n      <th>In-Kind Donations FY20</th>\n      <th>Volunteer Hours FY20</th>\n    </tr>\n  </thead>\n  <tbody>\n    <tr>\n      <td>0</td>\n      <td>1: Individual Giving</td>\n      <td>Sponsor a Scholar</td>\n      <td>$0.00</td>\n      <td>$12,420.45</td>\n      <td>$0.00</td>\n      <td>30</td>\n      <td>$0.00</td>\n      <td>$25,213.95</td>\n      <td>$0.00</td>\n      <td>75.0</td>\n    </tr>\n    <tr>\n      <td>1</td>\n      <td>1: Individual Giving</td>\n      <td>Sponsor a Scholar - Fund a Thon</td>\n      <td>$0.00</td>\n      <td>coming soon</td>\n      <td>$0.00</td>\n      <td>coming soon</td>\n      <td>$0.00</td>\n      <td>$3,610.00</td>\n      <td>$3.50</td>\n      <td>20.0</td>\n    </tr>\n    <tr>\n      <td>2</td>\n      <td>1: Individual Giving</td>\n      <td>Appeal - June</td>\n      <td>$210.06</td>\n      <td>$9,641.00</td>\n      <td>$0.00</td>\n      <td>27</td>\n      <td>$0.00</td>\n      <td>$25,295.00</td>\n      <td>$341.23</td>\n      <td>20.0</td>\n    </tr>\n    <tr>\n      <td>3</td>\n      <td>1: Individual Giving</td>\n      <td>Appeal - December</td>\n      <td>$0.00</td>\n      <td>coming soon</td>\n      <td>$0.00</td>\n      <td>coming soon</td>\n      <td>$224.92</td>\n      <td>$9,637.11</td>\n      <td>$459.55</td>\n      <td>20.0</td>\n    </tr>\n    <tr>\n      <td>4</td>\n      <td>1: Individual Giving</td>\n      <td>Online appeal - Giving Tuesday</td>\n      <td>$0.00</td>\n      <td>coming soon</td>\n      <td>$0.00</td>\n      <td>coming soon</td>\n      <td>$25.50</td>\n      <td>$8,544.94</td>\n      <td>$1,499.08</td>\n      <td>36.0</td>\n    </tr>\n  </tbody>\n</table>\n</div>"
     },
     "metadata": {},
     "execution_count": 119
    }
   ],
   "source": [
    "income_vs_expense = pd.merge(donation_data, expenses, how=\"outer\", on='Campaign Name')\n",
    "income_vs_expense = income_vs_expense[['Bucket', 'Campaign Name', 'Expenses FY21', 'Income FY21', 'In-Kind Donations FY21', 'Volunteer Hours FY21', 'Expenses FY20', 'Income FY20', 'In-Kind Donations FY20', 'Volunteer Hours FY20']]\n",
    "income_vs_expense.head()"
   ]
  },
  {
   "cell_type": "code",
   "execution_count": 120,
   "metadata": {},
   "outputs": [],
   "source": [
    "# income_vs_expense['Campaign Name'].unique()"
   ]
  },
  {
   "cell_type": "code",
   "execution_count": 121,
   "metadata": {},
   "outputs": [
    {
     "output_type": "execute_result",
     "data": {
      "text/plain": "                                                   Expenses FY21 Income FY21  \\\nCampaign Name                                                                  \nAppeal - June                                            $210.06   $9,641.00   \nOnline appeal - Giving Tuesday                             $0.00           0   \nEcua vols/visitors                                         $0.00       $0.00   \nBenefit dinner item sales                                    NaN     $601.06   \nBenefit Dinner (occuring April 2020) (SPANS TWO...       $250.00         NaN   \nBenefit dinner tickets                                       NaN   $4,817.12   \nBenefit dinner individual donations                          NaN   $8,250.40   \nBenefit dinner auction                                       NaN   $9,808.13   \nBenefit dinner sponsorships (5)                              NaN  $50,000.00   \nBenefit dinner sponsorships (1)                              NaN     $520.56   \n\n                                                   In-Kind Donations FY21  \\\nCampaign Name                                                               \nAppeal - June                                                       $0.00   \nOnline appeal - Giving Tuesday                                      $0.00   \nEcua vols/visitors                                                  $0.00   \nBenefit dinner item sales                                         $704.94   \nBenefit Dinner (occuring April 2020) (SPANS TWO...                    NaN   \nBenefit dinner tickets                                            $384.79   \nBenefit dinner individual donations                                 $0.00   \nBenefit dinner auction                                          $9,243.06   \nBenefit dinner sponsorships (5)                                     $0.00   \nBenefit dinner sponsorships (1)                                     $0.00   \n\n                                                   Volunteer Hours FY21  \\\nCampaign Name                                                             \nAppeal - June                                                        27   \nOnline appeal - Giving Tuesday                                        0   \nEcua vols/visitors                                                    0   \nBenefit dinner item sales                                            11   \nBenefit Dinner (occuring April 2020) (SPANS TWO...                  NaN   \nBenefit dinner tickets                                              538   \nBenefit dinner individual donations                                   0   \nBenefit dinner auction                                              152   \nBenefit dinner sponsorships (5)                                      57   \nBenefit dinner sponsorships (1)                                       1   \n\n                                                   Expenses FY20 Income FY20  \\\nCampaign Name                                                                  \nAppeal - June                                              $0.00  $25,295.00   \nOnline appeal - Giving Tuesday                            $25.50   $8,544.94   \nEcua vols/visitors                                        $25.00   $5,487.46   \nBenefit dinner item sales                                    NaN   $1,183.00   \nBenefit Dinner (occuring April 2020) (SPANS TWO...     $3,220.00         NaN   \nBenefit dinner tickets                                       NaN   $4,010.00   \nBenefit dinner individual donations                          NaN   $2,825.00   \nBenefit dinner auction                                       NaN  $11,491.00   \nBenefit dinner sponsorships (5)                              NaN  $87,500.00   \nBenefit dinner sponsorships (1)                              NaN     $500.00   \n\n                                                   In-Kind Donations FY20  \\\nCampaign Name                                                               \nAppeal - June                                                     $341.23   \nOnline appeal - Giving Tuesday                                  $1,499.08   \nEcua vols/visitors                                                  $0.00   \nBenefit dinner item sales                                         $159.60   \nBenefit Dinner (occuring April 2020) (SPANS TWO...                    NaN   \nBenefit dinner tickets                                            $540.13   \nBenefit dinner individual donations                                 $0.00   \nBenefit dinner auction                                          $9,552.59   \nBenefit dinner sponsorships (5)                                     $0.00   \nBenefit dinner sponsorships (1)                                     $0.00   \n\n                                                    Volunteer Hours FY20  \nCampaign Name                                                             \nAppeal - June                                                       20.0  \nOnline appeal - Giving Tuesday                                      36.0  \nEcua vols/visitors                                                   NaN  \nBenefit dinner item sales                                           10.0  \nBenefit Dinner (occuring April 2020) (SPANS TWO...                   NaN  \nBenefit dinner tickets                                             300.0  \nBenefit dinner individual donations                                  0.0  \nBenefit dinner auction                                             300.0  \nBenefit dinner sponsorships (5)                                     30.0  \nBenefit dinner sponsorships (1)                                      1.0  ",
      "text/html": "<div>\n<style scoped>\n    .dataframe tbody tr th:only-of-type {\n        vertical-align: middle;\n    }\n\n    .dataframe tbody tr th {\n        vertical-align: top;\n    }\n\n    .dataframe thead th {\n        text-align: right;\n    }\n</style>\n<table border=\"1\" class=\"dataframe\">\n  <thead>\n    <tr style=\"text-align: right;\">\n      <th></th>\n      <th>Expenses FY21</th>\n      <th>Income FY21</th>\n      <th>In-Kind Donations FY21</th>\n      <th>Volunteer Hours FY21</th>\n      <th>Expenses FY20</th>\n      <th>Income FY20</th>\n      <th>In-Kind Donations FY20</th>\n      <th>Volunteer Hours FY20</th>\n    </tr>\n    <tr>\n      <th>Campaign Name</th>\n      <th></th>\n      <th></th>\n      <th></th>\n      <th></th>\n      <th></th>\n      <th></th>\n      <th></th>\n      <th></th>\n    </tr>\n  </thead>\n  <tbody>\n    <tr>\n      <td>Appeal - June</td>\n      <td>$210.06</td>\n      <td>$9,641.00</td>\n      <td>$0.00</td>\n      <td>27</td>\n      <td>$0.00</td>\n      <td>$25,295.00</td>\n      <td>$341.23</td>\n      <td>20.0</td>\n    </tr>\n    <tr>\n      <td>Online appeal - Giving Tuesday</td>\n      <td>$0.00</td>\n      <td>0</td>\n      <td>$0.00</td>\n      <td>0</td>\n      <td>$25.50</td>\n      <td>$8,544.94</td>\n      <td>$1,499.08</td>\n      <td>36.0</td>\n    </tr>\n    <tr>\n      <td>Ecua vols/visitors</td>\n      <td>$0.00</td>\n      <td>$0.00</td>\n      <td>$0.00</td>\n      <td>0</td>\n      <td>$25.00</td>\n      <td>$5,487.46</td>\n      <td>$0.00</td>\n      <td>NaN</td>\n    </tr>\n    <tr>\n      <td>Benefit dinner item sales</td>\n      <td>NaN</td>\n      <td>$601.06</td>\n      <td>$704.94</td>\n      <td>11</td>\n      <td>NaN</td>\n      <td>$1,183.00</td>\n      <td>$159.60</td>\n      <td>10.0</td>\n    </tr>\n    <tr>\n      <td>Benefit Dinner (occuring April 2020) (SPANS TWO FYs)</td>\n      <td>$250.00</td>\n      <td>NaN</td>\n      <td>NaN</td>\n      <td>NaN</td>\n      <td>$3,220.00</td>\n      <td>NaN</td>\n      <td>NaN</td>\n      <td>NaN</td>\n    </tr>\n    <tr>\n      <td>Benefit dinner tickets</td>\n      <td>NaN</td>\n      <td>$4,817.12</td>\n      <td>$384.79</td>\n      <td>538</td>\n      <td>NaN</td>\n      <td>$4,010.00</td>\n      <td>$540.13</td>\n      <td>300.0</td>\n    </tr>\n    <tr>\n      <td>Benefit dinner individual donations</td>\n      <td>NaN</td>\n      <td>$8,250.40</td>\n      <td>$0.00</td>\n      <td>0</td>\n      <td>NaN</td>\n      <td>$2,825.00</td>\n      <td>$0.00</td>\n      <td>0.0</td>\n    </tr>\n    <tr>\n      <td>Benefit dinner auction</td>\n      <td>NaN</td>\n      <td>$9,808.13</td>\n      <td>$9,243.06</td>\n      <td>152</td>\n      <td>NaN</td>\n      <td>$11,491.00</td>\n      <td>$9,552.59</td>\n      <td>300.0</td>\n    </tr>\n    <tr>\n      <td>Benefit dinner sponsorships (5)</td>\n      <td>NaN</td>\n      <td>$50,000.00</td>\n      <td>$0.00</td>\n      <td>57</td>\n      <td>NaN</td>\n      <td>$87,500.00</td>\n      <td>$0.00</td>\n      <td>30.0</td>\n    </tr>\n    <tr>\n      <td>Benefit dinner sponsorships (1)</td>\n      <td>NaN</td>\n      <td>$520.56</td>\n      <td>$0.00</td>\n      <td>1</td>\n      <td>NaN</td>\n      <td>$500.00</td>\n      <td>$0.00</td>\n      <td>1.0</td>\n    </tr>\n  </tbody>\n</table>\n</div>"
     },
     "metadata": {},
     "execution_count": 121
    }
   ],
   "source": [
    "del income_vs_expense['Bucket']\n",
    "\n",
    "x = income_vs_expense.set_index(['Campaign Name'])\n",
    "\n",
    "Campaigns_to_Analyze = x.loc[['Appeal - June', 'Online appeal - Giving Tuesday', 'Ecua vols/visitors', 'Benefit dinner item sales', 'Benefit Dinner (occuring April 2020) (SPANS TWO FYs)', 'Benefit dinner tickets', 'Benefit dinner individual donations', 'Benefit dinner auction', 'Benefit dinner sponsorships (5)', 'Benefit dinner sponsorships (1)']]\n",
    "\n",
    "Campaigns_to_Analyze.replace(regex=['coming soon'], value='0', inplace=True)\n",
    "\n",
    "Campaigns_to_Analyze"
   ]
  },
  {
   "cell_type": "markdown",
   "metadata": {},
   "source": [
    "# June Appeal FY21"
   ]
  },
  {
   "cell_type": "code",
   "execution_count": 132,
   "metadata": {},
   "outputs": [
    {
     "output_type": "execute_result",
     "data": {
      "text/plain": "               Expenses FY21  Income FY21  In-Kind Donations FY21  \\\nCampaign Name                                                       \nAppeal - June         210.06       9641.0                     0.0   \n\n               Volunteer Hours FY21  \nCampaign Name                        \nAppeal - June                  27.0  ",
      "text/html": "<div>\n<style scoped>\n    .dataframe tbody tr th:only-of-type {\n        vertical-align: middle;\n    }\n\n    .dataframe tbody tr th {\n        vertical-align: top;\n    }\n\n    .dataframe thead th {\n        text-align: right;\n    }\n</style>\n<table border=\"1\" class=\"dataframe\">\n  <thead>\n    <tr style=\"text-align: right;\">\n      <th></th>\n      <th>Expenses FY21</th>\n      <th>Income FY21</th>\n      <th>In-Kind Donations FY21</th>\n      <th>Volunteer Hours FY21</th>\n    </tr>\n    <tr>\n      <th>Campaign Name</th>\n      <th></th>\n      <th></th>\n      <th></th>\n      <th></th>\n    </tr>\n  </thead>\n  <tbody>\n    <tr>\n      <td>Appeal - June</td>\n      <td>210.06</td>\n      <td>9641.0</td>\n      <td>0.0</td>\n      <td>27.0</td>\n    </tr>\n  </tbody>\n</table>\n</div>"
     },
     "metadata": {},
     "execution_count": 132
    }
   ],
   "source": [
    "June_Appeal = Campaigns_to_Analyze.iloc[0:1,:]\n",
    "# June_Appeal = June_Appeal[June_Appeal.columns[0:8]].replace('[\\$,]', '', regex=True).astype(float)\n",
    "June_Appeal = June_Appeal[['Expenses FY21', 'Income FY21', 'In-Kind Donations FY21', 'Volunteer Hours FY21']].replace('[\\$,]', '', regex=True).astype(float)\n",
    "June_Appeal"
   ]
  },
  {
   "cell_type": "markdown",
   "metadata": {},
   "source": [
    "# Giving Tuesday FY20 (Copy)"
   ]
  },
  {
   "cell_type": "code",
   "execution_count": 123,
   "metadata": {},
   "outputs": [
    {
     "output_type": "execute_result",
     "data": {
      "text/plain": "                                Expenses FY20  Income FY20  \\\nCampaign Name                                                \nOnline appeal - Giving Tuesday           25.5      8544.94   \n\n                                In-Kind Donations FY20  Volunteer Hours FY20  \nCampaign Name                                                                 \nOnline appeal - Giving Tuesday                 1499.08                  36.0  ",
      "text/html": "<div>\n<style scoped>\n    .dataframe tbody tr th:only-of-type {\n        vertical-align: middle;\n    }\n\n    .dataframe tbody tr th {\n        vertical-align: top;\n    }\n\n    .dataframe thead th {\n        text-align: right;\n    }\n</style>\n<table border=\"1\" class=\"dataframe\">\n  <thead>\n    <tr style=\"text-align: right;\">\n      <th></th>\n      <th>Expenses FY20</th>\n      <th>Income FY20</th>\n      <th>In-Kind Donations FY20</th>\n      <th>Volunteer Hours FY20</th>\n    </tr>\n    <tr>\n      <th>Campaign Name</th>\n      <th></th>\n      <th></th>\n      <th></th>\n      <th></th>\n    </tr>\n  </thead>\n  <tbody>\n    <tr>\n      <td>Online appeal - Giving Tuesday</td>\n      <td>25.5</td>\n      <td>8544.94</td>\n      <td>1499.08</td>\n      <td>36.0</td>\n    </tr>\n  </tbody>\n</table>\n</div>"
     },
     "metadata": {},
     "execution_count": 123
    }
   ],
   "source": [
    "Giving_Tuesday = Campaigns_to_Analyze.iloc[1:2,:]\n",
    "Giving_Tuesday = Giving_Tuesday[['Expenses FY20', 'Income FY20', 'In-Kind Donations FY20', 'Volunteer Hours FY20']].replace('[\\$,]', '', regex=True).astype(float)\n",
    "Giving_Tuesday"
   ]
  },
  {
   "cell_type": "markdown",
   "metadata": {},
   "source": [
    "# Ecuador Volunteers FY20"
   ]
  },
  {
   "cell_type": "code",
   "execution_count": 124,
   "metadata": {},
   "outputs": [
    {
     "output_type": "execute_result",
     "data": {
      "text/plain": "                    Expenses FY20  Income FY20  In-Kind Donations FY20  \\\nCampaign Name                                                            \nEcua vols/visitors           25.0      5487.46                     0.0   \n\n                    Volunteer Hours FY20  \nCampaign Name                             \nEcua vols/visitors                     0  ",
      "text/html": "<div>\n<style scoped>\n    .dataframe tbody tr th:only-of-type {\n        vertical-align: middle;\n    }\n\n    .dataframe tbody tr th {\n        vertical-align: top;\n    }\n\n    .dataframe thead th {\n        text-align: right;\n    }\n</style>\n<table border=\"1\" class=\"dataframe\">\n  <thead>\n    <tr style=\"text-align: right;\">\n      <th></th>\n      <th>Expenses FY20</th>\n      <th>Income FY20</th>\n      <th>In-Kind Donations FY20</th>\n      <th>Volunteer Hours FY20</th>\n    </tr>\n    <tr>\n      <th>Campaign Name</th>\n      <th></th>\n      <th></th>\n      <th></th>\n      <th></th>\n    </tr>\n  </thead>\n  <tbody>\n    <tr>\n      <td>Ecua vols/visitors</td>\n      <td>25.0</td>\n      <td>5487.46</td>\n      <td>0.0</td>\n      <td>0</td>\n    </tr>\n  </tbody>\n</table>\n</div>"
     },
     "metadata": {},
     "execution_count": 124
    }
   ],
   "source": [
    "Ecua_vols = Campaigns_to_Analyze.iloc[2:3,:]\n",
    "Ecua_vols = Ecua_vols[['Expenses FY20', 'Income FY20', 'In-Kind Donations FY20']].replace('[\\$,]', '', regex=True).astype(float)\n",
    "Ecua_vols['Volunteer Hours FY20'] = 0\n",
    "Ecua_vols"
   ]
  },
  {
   "cell_type": "markdown",
   "metadata": {},
   "source": [
    "# Benfit Dinner Item Sales FY21"
   ]
  },
  {
   "cell_type": "code",
   "execution_count": 125,
   "metadata": {},
   "outputs": [
    {
     "output_type": "execute_result",
     "data": {
      "text/plain": "                           Income FY21  In-Kind Donations FY21  \\\nCampaign Name                                                    \nBenefit dinner item sales       601.06                  704.94   \n\n                           Volunteer Hours FY21  Expenses FY21  \nCampaign Name                                                   \nBenefit dinner item sales                  11.0              0  ",
      "text/html": "<div>\n<style scoped>\n    .dataframe tbody tr th:only-of-type {\n        vertical-align: middle;\n    }\n\n    .dataframe tbody tr th {\n        vertical-align: top;\n    }\n\n    .dataframe thead th {\n        text-align: right;\n    }\n</style>\n<table border=\"1\" class=\"dataframe\">\n  <thead>\n    <tr style=\"text-align: right;\">\n      <th></th>\n      <th>Income FY21</th>\n      <th>In-Kind Donations FY21</th>\n      <th>Volunteer Hours FY21</th>\n      <th>Expenses FY21</th>\n    </tr>\n    <tr>\n      <th>Campaign Name</th>\n      <th></th>\n      <th></th>\n      <th></th>\n      <th></th>\n    </tr>\n  </thead>\n  <tbody>\n    <tr>\n      <td>Benefit dinner item sales</td>\n      <td>601.06</td>\n      <td>704.94</td>\n      <td>11.0</td>\n      <td>0</td>\n    </tr>\n  </tbody>\n</table>\n</div>"
     },
     "metadata": {},
     "execution_count": 125
    }
   ],
   "source": [
    "Dinner_item_sales = Campaigns_to_Analyze.iloc[3:4,:]\n",
    "Dinner_item_sales = Dinner_item_sales[['Income FY21', 'In-Kind Donations FY21', 'Volunteer Hours FY21']].replace('[\\$,]', '', regex=True).astype(float)\n",
    "\n",
    "Dinner_item_sales['Expenses FY21'] = 0\n",
    "Dinner_item_sales"
   ]
  },
  {
   "cell_type": "markdown",
   "metadata": {},
   "source": [
    "# Other Dinner Line Items, FY20-21"
   ]
  },
  {
   "cell_type": "code",
   "execution_count": 126,
   "metadata": {},
   "outputs": [
    {
     "output_type": "execute_result",
     "data": {
      "text/plain": "                                                    Expenses FY21\nCampaign Name                                                    \nBenefit Dinner (occuring April 2020) (SPANS TWO...          250.0",
      "text/html": "<div>\n<style scoped>\n    .dataframe tbody tr th:only-of-type {\n        vertical-align: middle;\n    }\n\n    .dataframe tbody tr th {\n        vertical-align: top;\n    }\n\n    .dataframe thead th {\n        text-align: right;\n    }\n</style>\n<table border=\"1\" class=\"dataframe\">\n  <thead>\n    <tr style=\"text-align: right;\">\n      <th></th>\n      <th>Expenses FY21</th>\n    </tr>\n    <tr>\n      <th>Campaign Name</th>\n      <th></th>\n    </tr>\n  </thead>\n  <tbody>\n    <tr>\n      <td>Benefit Dinner (occuring April 2020) (SPANS TWO FYs)</td>\n      <td>250.0</td>\n    </tr>\n  </tbody>\n</table>\n</div>"
     },
     "metadata": {},
     "execution_count": 126
    }
   ],
   "source": [
    "Benefit_Dinner_Expenses = Campaigns_to_Analyze.iloc[4:5,:]\n",
    "Benefit_Dinner_Expenses = Benefit_Dinner_Expenses[['Expenses FY21']].replace('[\\$,]', '', regex=True).astype(float)\n",
    "Benefit_Dinner_Expenses"
   ]
  },
  {
   "cell_type": "code",
   "execution_count": 133,
   "metadata": {},
   "outputs": [
    {
     "output_type": "execute_result",
     "data": {
      "text/plain": "                                     Income FY21  In-Kind Donations FY21  \\\nCampaign Name                                                              \nBenefit dinner tickets                   4817.12                  384.79   \nBenefit dinner individual donations      8250.40                    0.00   \nBenefit dinner auction                   9808.13                 9243.06   \nBenefit dinner sponsorships (5)         50000.00                    0.00   \nBenefit dinner sponsorships (1)           520.56                    0.00   \nBenefit Dinner Totals                   73396.21                 9627.85   \n\n                                     Volunteer Hours FY21  \nCampaign Name                                              \nBenefit dinner tickets                              538.0  \nBenefit dinner individual donations                   0.0  \nBenefit dinner auction                              152.0  \nBenefit dinner sponsorships (5)                      57.0  \nBenefit dinner sponsorships (1)                       1.0  \nBenefit Dinner Totals                               748.0  ",
      "text/html": "<div>\n<style scoped>\n    .dataframe tbody tr th:only-of-type {\n        vertical-align: middle;\n    }\n\n    .dataframe tbody tr th {\n        vertical-align: top;\n    }\n\n    .dataframe thead th {\n        text-align: right;\n    }\n</style>\n<table border=\"1\" class=\"dataframe\">\n  <thead>\n    <tr style=\"text-align: right;\">\n      <th></th>\n      <th>Income FY21</th>\n      <th>In-Kind Donations FY21</th>\n      <th>Volunteer Hours FY21</th>\n    </tr>\n    <tr>\n      <th>Campaign Name</th>\n      <th></th>\n      <th></th>\n      <th></th>\n    </tr>\n  </thead>\n  <tbody>\n    <tr>\n      <td>Benefit dinner tickets</td>\n      <td>4817.12</td>\n      <td>384.79</td>\n      <td>538.0</td>\n    </tr>\n    <tr>\n      <td>Benefit dinner individual donations</td>\n      <td>8250.40</td>\n      <td>0.00</td>\n      <td>0.0</td>\n    </tr>\n    <tr>\n      <td>Benefit dinner auction</td>\n      <td>9808.13</td>\n      <td>9243.06</td>\n      <td>152.0</td>\n    </tr>\n    <tr>\n      <td>Benefit dinner sponsorships (5)</td>\n      <td>50000.00</td>\n      <td>0.00</td>\n      <td>57.0</td>\n    </tr>\n    <tr>\n      <td>Benefit dinner sponsorships (1)</td>\n      <td>520.56</td>\n      <td>0.00</td>\n      <td>1.0</td>\n    </tr>\n    <tr>\n      <td>Benefit Dinner Totals</td>\n      <td>73396.21</td>\n      <td>9627.85</td>\n      <td>748.0</td>\n    </tr>\n  </tbody>\n</table>\n</div>"
     },
     "metadata": {},
     "execution_count": 133
    }
   ],
   "source": [
    "Benefit_Dinner_Income = Campaigns_to_Analyze.iloc[5:,:]\n",
    "Benefit_Dinner_Income = Benefit_Dinner_Income[['Income FY21', 'In-Kind Donations FY21', 'Volunteer Hours FY21']].replace('[\\$,]', '', regex=True).astype(float)\n",
    "Benefit_Dinner_Income.loc['Benefit Dinner Totals'] = Benefit_Dinner_Income.sum()\n",
    "Benefit_Dinner_Income"
   ]
  },
  {
   "cell_type": "code",
   "execution_count": 134,
   "metadata": {},
   "outputs": [
    {
     "output_type": "execute_result",
     "data": {
      "text/plain": "                       Income FY21  In-Kind Donations FY21  \\\nCampaign Name                                                \nBenefit Dinner Totals     73396.21                 9627.85   \n\n                       Volunteer Hours FY21  Expenses FY21  \nCampaign Name                                               \nBenefit Dinner Totals                 748.0          250.0  ",
      "text/html": "<div>\n<style scoped>\n    .dataframe tbody tr th:only-of-type {\n        vertical-align: middle;\n    }\n\n    .dataframe tbody tr th {\n        vertical-align: top;\n    }\n\n    .dataframe thead th {\n        text-align: right;\n    }\n</style>\n<table border=\"1\" class=\"dataframe\">\n  <thead>\n    <tr style=\"text-align: right;\">\n      <th></th>\n      <th>Income FY21</th>\n      <th>In-Kind Donations FY21</th>\n      <th>Volunteer Hours FY21</th>\n      <th>Expenses FY21</th>\n    </tr>\n    <tr>\n      <th>Campaign Name</th>\n      <th></th>\n      <th></th>\n      <th></th>\n      <th></th>\n    </tr>\n  </thead>\n  <tbody>\n    <tr>\n      <td>Benefit Dinner Totals</td>\n      <td>73396.21</td>\n      <td>9627.85</td>\n      <td>748.0</td>\n      <td>250.0</td>\n    </tr>\n  </tbody>\n</table>\n</div>"
     },
     "metadata": {},
     "execution_count": 134
    }
   ],
   "source": [
    "Benefit_Dinner = Benefit_Dinner_Income.iloc[5:,:]\n",
    "dinner_expenses_FY21 = Benefit_Dinner_Expenses.iloc[0,0]\n",
    "Benefit_Dinner['Expenses FY21'] = dinner_expenses_FY21 \n",
    "Benefit_Dinner"
   ]
  },
  {
   "cell_type": "code",
   "execution_count": null,
   "metadata": {},
   "outputs": [],
   "source": []
  }
 ],
 "metadata": {
  "kernelspec": {
   "display_name": "Python 3",
   "language": "python",
   "name": "python3"
  },
  "language_info": {
   "codemirror_mode": {
    "name": "ipython",
    "version": 3
   },
   "file_extension": ".py",
   "mimetype": "text/x-python",
   "name": "python",
   "nbconvert_exporter": "python",
   "pygments_lexer": "ipython3",
   "version": "3.7.4-final"
  }
 },
 "nbformat": 4,
 "nbformat_minor": 2
}